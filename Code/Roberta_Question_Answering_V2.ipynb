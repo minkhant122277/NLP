{
  "nbformat": 4,
  "nbformat_minor": 0,
  "metadata": {
    "colab": {
      "name": "Roberta Question_Answering.ipynb",
      "provenance": [],
      "collapsed_sections": [],
      "machine_shape": "hm"
    },
    "kernelspec": {
      "name": "python3",
      "display_name": "Python 3"
    },
    "language_info": {
      "name": "python"
    },
    "accelerator": "GPU"
  },
  "cells": [
    {
      "cell_type": "code",
      "execution_count": null,
      "metadata": {
        "colab": {
          "base_uri": "https://localhost:8080/"
        },
        "id": "aHDBrveid9HB",
        "outputId": "6584156a-b876-48dd-90d7-bf934cd7118a"
      },
      "outputs": [
        {
          "output_type": "stream",
          "name": "stdout",
          "text": [
            "Drive already mounted at /content/drive; to attempt to forcibly remount, call drive.mount(\"/content/drive\", force_remount=True).\n"
          ]
        }
      ],
      "source": [
        "from google.colab import drive\n",
        "drive.mount('/content/drive')"
      ]
    },
    {
      "cell_type": "code",
      "source": [
        "cd /content/drive/MyDrive/NLU"
      ],
      "metadata": {
        "colab": {
          "base_uri": "https://localhost:8080/"
        },
        "id": "JtPxb5wjVhQT",
        "outputId": "8a5cba11-4fec-4d48-b313-6af044088a95"
      },
      "execution_count": null,
      "outputs": [
        {
          "output_type": "stream",
          "name": "stdout",
          "text": [
            "/content/drive/MyDrive/NLU\n"
          ]
        }
      ]
    },
    {
      "cell_type": "code",
      "source": [
        "gpu_info = !nvidia-smi\n",
        "gpu_info = '\\n'.join(gpu_info)\n",
        "if gpu_info.find('failed') >= 0:\n",
        "  print('Not connected to a GPU')\n",
        "else:\n",
        "  print(gpu_info)\n",
        "\n",
        "from psutil import virtual_memory\n",
        "ram_gb = virtual_memory().total / 1e9\n",
        "print('Your runtime has {:.1f} gigabytes of available RAM\\n'.format(ram_gb))\n",
        "\n",
        "if ram_gb < 20:\n",
        "  print('Not using a high-RAM runtime')\n",
        "else:\n",
        "  print('You are using a high-RAM runtime!')"
      ],
      "metadata": {
        "colab": {
          "base_uri": "https://localhost:8080/"
        },
        "id": "HX0n3hjeer67",
        "outputId": "daca7f47-db58-4b36-ffd5-2fe45db94fd2"
      },
      "execution_count": null,
      "outputs": [
        {
          "output_type": "stream",
          "name": "stdout",
          "text": [
            "Mon Apr 18 23:25:44 2022       \n",
            "+-----------------------------------------------------------------------------+\n",
            "| NVIDIA-SMI 460.32.03    Driver Version: 460.32.03    CUDA Version: 11.2     |\n",
            "|-------------------------------+----------------------+----------------------+\n",
            "| GPU  Name        Persistence-M| Bus-Id        Disp.A | Volatile Uncorr. ECC |\n",
            "| Fan  Temp  Perf  Pwr:Usage/Cap|         Memory-Usage | GPU-Util  Compute M. |\n",
            "|                               |                      |               MIG M. |\n",
            "|===============================+======================+======================|\n",
            "|   0  Tesla T4            Off  | 00000000:00:04.0 Off |                    0 |\n",
            "| N/A   46C    P8     9W /  70W |      0MiB / 15109MiB |      0%      Default |\n",
            "|                               |                      |                  N/A |\n",
            "+-------------------------------+----------------------+----------------------+\n",
            "                                                                               \n",
            "+-----------------------------------------------------------------------------+\n",
            "| Processes:                                                                  |\n",
            "|  GPU   GI   CI        PID   Type   Process name                  GPU Memory |\n",
            "|        ID   ID                                                   Usage      |\n",
            "|=============================================================================|\n",
            "|  No running processes found                                                 |\n",
            "+-----------------------------------------------------------------------------+\n",
            "Your runtime has 27.3 gigabytes of available RAM\n",
            "\n",
            "You are using a high-RAM runtime!\n"
          ]
        }
      ]
    },
    {
      "cell_type": "code",
      "source": [
        "import os\n",
        "import numpy as np\n",
        "import torch\n",
        "import torch.nn as nn\n",
        "from torch.utils.data import Dataset, DataLoader\n",
        "import random\n",
        "from IPython.display import clear_output"
      ],
      "metadata": {
        "id": "nrh5F3uyimCx"
      },
      "execution_count": null,
      "outputs": []
    },
    {
      "cell_type": "code",
      "source": [
        "device = torch.device('cuda' if torch.cuda.is_available() else 'cpu')\n",
        "print(device)"
      ],
      "metadata": {
        "colab": {
          "base_uri": "https://localhost:8080/"
        },
        "id": "4Myyv1nlikba",
        "outputId": "72f765dc-1c1a-4092-ea8e-e427b164d6d2"
      },
      "execution_count": null,
      "outputs": [
        {
          "output_type": "stream",
          "name": "stdout",
          "text": [
            "cuda\n"
          ]
        }
      ]
    },
    {
      "cell_type": "code",
      "source": [
        "pip install transformers"
      ],
      "metadata": {
        "colab": {
          "base_uri": "https://localhost:8080/"
        },
        "id": "bjaySbQtioDn",
        "outputId": "e1a2ab6f-fd55-45a6-9916-59d36af4ca4b"
      },
      "execution_count": null,
      "outputs": [
        {
          "output_type": "stream",
          "name": "stdout",
          "text": [
            "Requirement already satisfied: transformers in /usr/local/lib/python3.7/dist-packages (4.18.0)\n",
            "Requirement already satisfied: pyyaml>=5.1 in /usr/local/lib/python3.7/dist-packages (from transformers) (6.0)\n",
            "Requirement already satisfied: numpy>=1.17 in /usr/local/lib/python3.7/dist-packages (from transformers) (1.21.5)\n",
            "Requirement already satisfied: tqdm>=4.27 in /usr/local/lib/python3.7/dist-packages (from transformers) (4.64.0)\n",
            "Requirement already satisfied: importlib-metadata in /usr/local/lib/python3.7/dist-packages (from transformers) (4.11.3)\n",
            "Requirement already satisfied: filelock in /usr/local/lib/python3.7/dist-packages (from transformers) (3.6.0)\n",
            "Requirement already satisfied: regex!=2019.12.17 in /usr/local/lib/python3.7/dist-packages (from transformers) (2019.12.20)\n",
            "Requirement already satisfied: huggingface-hub<1.0,>=0.1.0 in /usr/local/lib/python3.7/dist-packages (from transformers) (0.5.1)\n",
            "Requirement already satisfied: tokenizers!=0.11.3,<0.13,>=0.11.1 in /usr/local/lib/python3.7/dist-packages (from transformers) (0.12.1)\n",
            "Requirement already satisfied: sacremoses in /usr/local/lib/python3.7/dist-packages (from transformers) (0.0.49)\n",
            "Requirement already satisfied: requests in /usr/local/lib/python3.7/dist-packages (from transformers) (2.23.0)\n",
            "Requirement already satisfied: packaging>=20.0 in /usr/local/lib/python3.7/dist-packages (from transformers) (21.3)\n",
            "Requirement already satisfied: typing-extensions>=3.7.4.3 in /usr/local/lib/python3.7/dist-packages (from huggingface-hub<1.0,>=0.1.0->transformers) (4.1.1)\n",
            "Requirement already satisfied: pyparsing!=3.0.5,>=2.0.2 in /usr/local/lib/python3.7/dist-packages (from packaging>=20.0->transformers) (3.0.8)\n",
            "Requirement already satisfied: zipp>=0.5 in /usr/local/lib/python3.7/dist-packages (from importlib-metadata->transformers) (3.8.0)\n",
            "Requirement already satisfied: certifi>=2017.4.17 in /usr/local/lib/python3.7/dist-packages (from requests->transformers) (2021.10.8)\n",
            "Requirement already satisfied: chardet<4,>=3.0.2 in /usr/local/lib/python3.7/dist-packages (from requests->transformers) (3.0.4)\n",
            "Requirement already satisfied: idna<3,>=2.5 in /usr/local/lib/python3.7/dist-packages (from requests->transformers) (2.10)\n",
            "Requirement already satisfied: urllib3!=1.25.0,!=1.25.1,<1.26,>=1.21.1 in /usr/local/lib/python3.7/dist-packages (from requests->transformers) (1.24.3)\n",
            "Requirement already satisfied: six in /usr/local/lib/python3.7/dist-packages (from sacremoses->transformers) (1.15.0)\n",
            "Requirement already satisfied: joblib in /usr/local/lib/python3.7/dist-packages (from sacremoses->transformers) (1.1.0)\n",
            "Requirement already satisfied: click in /usr/local/lib/python3.7/dist-packages (from sacremoses->transformers) (7.1.2)\n"
          ]
        }
      ]
    },
    {
      "cell_type": "code",
      "source": [
        "pip install Sentencepiece"
      ],
      "metadata": {
        "colab": {
          "base_uri": "https://localhost:8080/"
        },
        "id": "758a7K6Ae7Wn",
        "outputId": "e099cd3e-ed1e-4e16-d6e6-3cc1adab558c"
      },
      "execution_count": null,
      "outputs": [
        {
          "output_type": "stream",
          "name": "stdout",
          "text": [
            "Requirement already satisfied: Sentencepiece in /usr/local/lib/python3.7/dist-packages (0.1.96)\n"
          ]
        }
      ]
    },
    {
      "cell_type": "code",
      "source": [
        "import pickle # reading in our data\n",
        "\n",
        "import torch # pytorch\n",
        "from torch.utils.data import DataLoader # this helps us iterate over our data efficiently\n",
        "from tqdm import tqdm"
      ],
      "metadata": {
        "id": "hPgeKhuG1jw5"
      },
      "execution_count": null,
      "outputs": []
    },
    {
      "cell_type": "code",
      "source": [
        "with open('/content/drive/MyDrive/NLU/covidqa/covid_train_contexts.pkl', 'rb') as f1:\n",
        "  train_contexts = pickle.load(f1)\n",
        "\n",
        "with open('/content/drive/MyDrive/NLU/covidqa/covid_train_questions.pkl', 'rb') as f2:\n",
        "  train_questions = pickle.load(f2)\n",
        "\n",
        "with open('/content/drive/MyDrive/NLU/covidqa/covid_train_answers.pkl', 'rb') as f3:\n",
        "  train_answers = pickle.load(f3)\n",
        "\n",
        "with open('/content/drive/MyDrive/NLU/covidqa/covid_val_contexts.pkl', 'rb') as f1:\n",
        "  val_contexts = pickle.load(f1)\n",
        "\n",
        "with open('/content/drive/MyDrive/NLU/covidqa/covid_val_questions.pkl', 'rb') as f2:\n",
        "  val_questions = pickle.load(f2)\n",
        "\n",
        "with open('/content/drive/MyDrive/NLU/covidqa/covid_val_answers.pkl', 'rb') as f3:\n",
        "  val_answers = pickle.load(f3)"
      ],
      "metadata": {
        "id": "XoX_Fv_j0f3H"
      },
      "execution_count": null,
      "outputs": []
    },
    {
      "cell_type": "code",
      "source": [
        "print(type(train_questions))\n",
        "print(type(train_contexts))\n",
        "print(type(train_answers))\n",
        "print(len(train_questions))\n",
        "print(len(train_contexts))\n",
        "print(len(train_answers))"
      ],
      "metadata": {
        "colab": {
          "base_uri": "https://localhost:8080/"
        },
        "id": "DQOp3jzostAl",
        "outputId": "eb5bb100-cba3-483a-8c9c-8a2c8c7112a8"
      },
      "execution_count": null,
      "outputs": [
        {
          "output_type": "stream",
          "name": "stdout",
          "text": [
            "<class 'list'>\n",
            "<class 'list'>\n",
            "<class 'list'>\n",
            "1615\n",
            "1615\n",
            "1615\n"
          ]
        }
      ]
    },
    {
      "cell_type": "code",
      "source": [
        "print(len(val_answers))"
      ],
      "metadata": {
        "colab": {
          "base_uri": "https://localhost:8080/"
        },
        "id": "iUdYF-dGNTvt",
        "outputId": "602ca2fb-b139-4271-a85b-c190dc4275be"
      },
      "execution_count": null,
      "outputs": [
        {
          "output_type": "stream",
          "name": "stdout",
          "text": [
            "404\n"
          ]
        }
      ]
    },
    {
      "cell_type": "code",
      "source": [
        "print(\"Question\")\n",
        "print(train_questions[0])\n",
        "print(\"Answer\")\n",
        "print(train_answers[0])\n",
        "# print(\"Context\")\n",
        "# print(train_contexts[0])"
      ],
      "metadata": {
        "colab": {
          "base_uri": "https://localhost:8080/"
        },
        "id": "46DyRQHjWUPT",
        "outputId": "15ba0fec-ece3-47f5-a398-2745d64cbd51"
      },
      "execution_count": null,
      "outputs": [
        {
          "output_type": "stream",
          "name": "stdout",
          "text": [
            "Question\n",
            "What is the main cause of HIV-1 infection in children?\n",
            "Answer\n",
            "{'text': 'Mother-to-child transmission (MTCT) is the main cause of HIV-1 infection in children worldwide. ', 'answer_start': 370}\n"
          ]
        }
      ]
    },
    {
      "cell_type": "code",
      "source": [
        "# the actual answer\n",
        "expected_answer = train_answers[1]['text']\n",
        "# start index of the answer\n",
        "start_index = train_answers[1]['answer_start']\n",
        "end_index = start_index + len(expected_answer)\n",
        "print(start_index)\n",
        "print(len(expected_answer))\n",
        "print(end_index)\n",
        "print(train_answers[1])"
      ],
      "metadata": {
        "colab": {
          "base_uri": "https://localhost:8080/"
        },
        "id": "vjx8xXhtXTUw",
        "outputId": "f4de199b-2518-4eee-fbeb-430580a600e4"
      },
      "execution_count": null,
      "outputs": [
        {
          "output_type": "stream",
          "name": "stdout",
          "text": [
            "2003\n",
            "126\n",
            "2129\n",
            "{'text': 'DC-SIGNR plays a crucial role in MTCT of HIV-1 and that impaired placental DC-SIGNR expression increases risk of transmission.', 'answer_start': 2003}\n"
          ]
        }
      ]
    },
    {
      "cell_type": "code",
      "source": [
        "def add_end_index(answers, contexts):\n",
        "\n",
        "  # loop over each context-answer pair\n",
        "  for answer, context in zip(answers, contexts):\n",
        "\n",
        "    # the actual answer\n",
        "    expected_answer = answer['text']\n",
        "\n",
        "    # start index of the answer\n",
        "    start_index = answer['answer_start']\n",
        "\n",
        "    # end index\n",
        "    end_index = start_index + len(expected_answer)\n",
        "\n",
        "    # take into account if answer is off by a couple characters\n",
        "    if context[start_index:end_index] == expected_answer:\n",
        "      answer['answer_end'] = end_index\n",
        "    else:\n",
        "      # if answer is off by 1 or 2 tokens\n",
        "      for i in [1, 2]:\n",
        "        if context[start_index-i:end_index-i] == expected_answer:\n",
        "          answer['answer_start'] = start_index - i\n",
        "          answer['answer_end'] = end_index - i"
      ],
      "metadata": {
        "id": "b5Gh9Yel1kUW"
      },
      "execution_count": null,
      "outputs": []
    },
    {
      "cell_type": "code",
      "source": [
        "# apply our function above to dig up all the answer_start and end for each context-answer pair\n",
        "add_end_index(train_answers, train_contexts)\n",
        "add_end_index(val_answers, val_contexts)\n",
        "# add_end_index(val_answers, val_contexts)\n",
        "print(train_answers[0])\n",
        "print(val_answers[0])"
      ],
      "metadata": {
        "colab": {
          "base_uri": "https://localhost:8080/"
        },
        "id": "rdx-IilL1pRT",
        "outputId": "0dd66949-9101-4a82-e04c-35eded0e0f1f"
      },
      "execution_count": null,
      "outputs": [
        {
          "output_type": "stream",
          "name": "stdout",
          "text": [
            "{'text': 'Mother-to-child transmission (MTCT) is the main cause of HIV-1 infection in children worldwide. ', 'answer_start': 370, 'answer_end': 466}\n",
            "{'text': 'there are also evidence of reduced type I (IFNβ) and III (IFNλ) interferon production due to type 2-skewed inflammation, which contributes to imperfect clearance of the virus resulting in persistence of viral components, or the live virus in the airway epithelium ', 'answer_start': 17454, 'answer_end': 17718}\n"
          ]
        }
      ]
    },
    {
      "cell_type": "code",
      "source": [
        "# # from transformers import DistilBertTokenizerFast\n",
        "# from transformers import AlbertTokenizerFast\n",
        "# # defining the tokenizer we are going to use\n",
        "# # tokenizer = DistilBertTokenizerFast.from_pretrained('distilbert-base-uncased')\n",
        "# tokenizer = AlbertTokenizerFast.from_pretrained('albert-base-v2')\n",
        "# # apply tokenizer to our training and validation datasets\n",
        "# train_tokenized = tokenizer(train_contexts, train_questions, truncation=True, padding=True)"
      ],
      "metadata": {
        "id": "kquCQsfY1m7N"
      },
      "execution_count": null,
      "outputs": []
    },
    {
      "cell_type": "code",
      "source": [
        "# tokenizer.decode(train_tokenized['input_ids'][2])"
      ],
      "metadata": {
        "id": "aeP88x9R1raw"
      },
      "execution_count": null,
      "outputs": []
    },
    {
      "cell_type": "code",
      "source": [
        "# tokenizer.decode(train_tokenized['input_ids'][1])"
      ],
      "metadata": {
        "id": "W1NREqrV2Enm"
      },
      "execution_count": null,
      "outputs": []
    },
    {
      "cell_type": "code",
      "source": [
        "# train_tokenized.keys()"
      ],
      "metadata": {
        "id": "dhQXj0rN3kwD"
      },
      "execution_count": null,
      "outputs": []
    },
    {
      "cell_type": "code",
      "source": [
        "# len(train_tokenized[\"input_ids\"][0])"
      ],
      "metadata": {
        "id": "12v09Cjn3nzD"
      },
      "execution_count": null,
      "outputs": []
    },
    {
      "cell_type": "code",
      "source": [
        "# train_tokenized[\"input_ids\"][:2]"
      ],
      "metadata": {
        "id": "TxOoF5qr39Y7"
      },
      "execution_count": null,
      "outputs": []
    },
    {
      "cell_type": "code",
      "source": [
        "# from transformers import DistilBertTokenizerFast\n",
        "from transformers import RobertaTokenizerFast\n",
        "# defining the tokenizer we are going to use\n",
        "# tokenizer = DistilBertTokenizerFast.from_pretrained('distilbert-base-uncased')\n",
        "tokenizer = RobertaTokenizerFast.from_pretrained('roberta-base')"
      ],
      "metadata": {
        "id": "MHS-_6xfeqLE"
      },
      "execution_count": null,
      "outputs": []
    },
    {
      "cell_type": "code",
      "source": [
        "# question, text = \"Who was Jim Henson?\", \"Jim Henson was a nice puppet\"\n",
        "\n",
        "# inputs = tokenizer(question, text, return_tensors=\"pt\")\n",
        "# tokenizer.decode(inputs['input_ids'][0])"
      ],
      "metadata": {
        "id": "3PEa274UkfHp"
      },
      "execution_count": null,
      "outputs": []
    },
    {
      "cell_type": "code",
      "source": [
        "# from transformers import XLNetForQuestionAnswering, XLNetTokenizerFast\n",
        "\n",
        "# tokenizer = XLNetTokenizerFast.from_pretrained('jkgrad/xlnet-base-squadv2')\n",
        "# example_train_tokenized = tokenizer(train_questions, train_contexts)\n",
        "# tokenizer.decode(example_train_tokenized['input_ids'][0])"
      ],
      "metadata": {
        "id": "teA_7LWO601i"
      },
      "execution_count": null,
      "outputs": []
    },
    {
      "cell_type": "code",
      "source": [
        "# example_train_tokenized.keys()"
      ],
      "metadata": {
        "id": "lfTstpVdzyfJ"
      },
      "execution_count": null,
      "outputs": []
    },
    {
      "cell_type": "code",
      "source": [
        "# apply tokenizer to our training and validation datasets\n",
        "train_tokenized = tokenizer(train_questions, train_contexts, truncation=True, padding=True)\n",
        "val_tokenized = tokenizer(val_questions, val_contexts, truncation=True, padding=True)"
      ],
      "metadata": {
        "id": "4ydIGxv2l4Nk"
      },
      "execution_count": null,
      "outputs": []
    },
    {
      "cell_type": "code",
      "source": [
        "# train_tokenized_max_l = tokenizer(\n",
        "#     train_questions,\n",
        "#     train_contexts,\n",
        "#     max_length=500,\n",
        "#     truncation=\"only_second\",\n",
        "#     stride=50,\n",
        "#     return_overflowing_tokens=True,\n",
        "# )\n",
        "\n",
        "# val_tokenized_max_l = tokenizer(\n",
        "#     val_questions,\n",
        "#     val_contexts,\n",
        "#     max_length=500,\n",
        "#     truncation=\"only_second\",\n",
        "#     stride=50,\n",
        "#     return_overflowing_tokens=True,\n",
        "# )"
      ],
      "metadata": {
        "id": "tbI-9B_TkSXh"
      },
      "execution_count": null,
      "outputs": []
    },
    {
      "cell_type": "code",
      "source": [
        ""
      ],
      "metadata": {
        "id": "ys1TF8n4AMHI"
      },
      "execution_count": null,
      "outputs": []
    },
    {
      "cell_type": "code",
      "source": [
        "print(train_tokenized[0])\n",
        "print(val_tokenized[0])"
      ],
      "metadata": {
        "colab": {
          "base_uri": "https://localhost:8080/"
        },
        "id": "4gJ2bENdkBKj",
        "outputId": "43ccd394-4ac5-4e30-d3d2-68ec0d2933cd"
      },
      "execution_count": null,
      "outputs": [
        {
          "output_type": "stream",
          "name": "stdout",
          "text": [
            "Encoding(num_tokens=512, attributes=[ids, type_ids, tokens, offsets, attention_mask, special_tokens_mask, overflowing])\n",
            "Encoding(num_tokens=512, attributes=[ids, type_ids, tokens, offsets, attention_mask, special_tokens_mask, overflowing])\n"
          ]
        }
      ]
    },
    {
      "cell_type": "code",
      "source": [
        "# print(train_tokenized_max_l[0])\n",
        "# print(val_tokenized_max_l[0])"
      ],
      "metadata": {
        "id": "Ju62XcBckBNh"
      },
      "execution_count": null,
      "outputs": []
    },
    {
      "cell_type": "code",
      "source": [
        "tokenizer.decode(train_tokenized['input_ids'][0])"
      ],
      "metadata": {
        "colab": {
          "base_uri": "https://localhost:8080/",
          "height": 108
        },
        "id": "NUF9WbzskBQS",
        "outputId": "b12186aa-2497-48a7-af5b-d867f98d8206"
      },
      "execution_count": null,
      "outputs": [
        {
          "output_type": "execute_result",
          "data": {
            "text/plain": [
              "'<s>What is the main cause of HIV-1 infection in children?</s></s>Functional Genetic Variants in DC-SIGNR Are Associated with Mother-to-Child Transmission of HIV-1\\n\\nhttps://www.ncbi.nlm.nih.gov/pmc/articles/PMC2752805/\\n\\nBoily-Larouche, Geneviève; Iscache, Anne-Laure; Zijenah, Lynn S.; Humphrey, Jean H.; Mouland, Andrew J.; Ward, Brian J.; Roger, Michel\\n2009-10-07\\nDOI:10.1371/journal.pone.0007211\\nLicense:cc-by\\n\\nAbstract: BACKGROUND: Mother-to-child transmission (MTCT) is the main cause of HIV-1 infection in children worldwide. Given that the C-type lectin receptor, dendritic cell-specific ICAM-grabbing non-integrin-related (DC-SIGNR, also known as CD209L or liver/lymph node–specific ICAM-grabbing non-integrin (L-SIGN)), can interact with pathogens including HIV-1 and is expressed at the maternal-fetal interface, we hypothesized that it could influence MTCT of HIV-1. METHODS AND FINDINGS: To investigate the potential role of DC-SIGNR in MTCT of HIV-1, we carried out a genetic association study of DC-SIGNR in a well-characterized cohort of 197 HIV-infected mothers and their infants recruited in Harare, Zimbabwe. Infants harbouring two copies of DC-SIGNR H1 and/or H3 haplotypes (H1-H1, H1-H3, H3-H3) had a 3.6-fold increased risk of in utero (IU) (P = 0.013) HIV-1 infection and a 5.7-fold increased risk of intrapartum (IP) (P = 0.025) HIV-1 infection after adjusting for a number of maternal factors. The implicated H1 and H3 haplotypes share two single nucleotide polymorphisms (SNPs) in promoter region (p-198A) and intron 2 (int2-180A) that were associated with increased risk of both IU (P = 0.045 and P = 0.003, respectively) and IP (P = 0.025, for int2-</s>'"
            ],
            "application/vnd.google.colaboratory.intrinsic+json": {
              "type": "string"
            }
          },
          "metadata": {},
          "execution_count": 29
        }
      ]
    },
    {
      "cell_type": "code",
      "source": [
        "def add_token_positions(tokenized_data, answers):\n",
        "  # let's define a couple lists to keep track of our start/end tokens\n",
        "  start_positions = [] # aggregate all start positions for each sample\n",
        "  end_positions = [] # aggregate all end positions for each sample\n",
        "\n",
        "  # loop over the answers list\n",
        "  for i in range(len(answers)):\n",
        "    # add the start and end encodings to our lists\n",
        "    start_positions.append(tokenized_data.char_to_token(i, answers[i]['answer_start']))\n",
        "    end_positions.append(tokenized_data.char_to_token(i, answers[i]['answer_end']))\n",
        "\n",
        "    # if no start position, the answer passage was truncated\n",
        "    if start_positions[-1] is None:\n",
        "      start_positions[-1] = tokenizer.model_max_length\n",
        "    \n",
        "    # if we can't find the end positions, then we want to shift characters left until we do find it\n",
        "    shift = 1\n",
        "    while end_positions[-1] is None:\n",
        "      end_positions[-1] = tokenized_data.char_to_token(i, answers[i]['answer_end'] - shift)\n",
        "      shift += 1\n",
        "  \n",
        "  tokenized_data.update({'start_positions': start_positions, 'end_positions': end_positions})"
      ],
      "metadata": {
        "id": "ESZ7b67E4eIj"
      },
      "execution_count": null,
      "outputs": []
    },
    {
      "cell_type": "code",
      "source": [
        "# apply function to train and validations data\n",
        "add_token_positions(train_tokenized, train_answers)\n",
        "add_token_positions(val_tokenized, val_answers)"
      ],
      "metadata": {
        "id": "JB8jnQSU4n8l"
      },
      "execution_count": null,
      "outputs": []
    },
    {
      "cell_type": "code",
      "source": [
        "train_tokenized.keys()"
      ],
      "metadata": {
        "colab": {
          "base_uri": "https://localhost:8080/"
        },
        "id": "ENexF_59luoR",
        "outputId": "7243e6f6-ea1b-4653-98ce-81c4fac47c48"
      },
      "execution_count": null,
      "outputs": [
        {
          "output_type": "execute_result",
          "data": {
            "text/plain": [
              "dict_keys(['input_ids', 'attention_mask', 'start_positions', 'end_positions'])"
            ]
          },
          "metadata": {},
          "execution_count": 32
        }
      ]
    },
    {
      "cell_type": "code",
      "source": [
        "class Custom_Dataset(torch.utils.data.Dataset):\n",
        "  # constructor\n",
        "  def __init__(self, encodings):\n",
        "    self.encodings = encodings\n",
        "  \n",
        "  # Query to get a specific item at an index in our dataset\n",
        "  def __getitem__(self, idx):\n",
        "    return {key: torch.tensor(val[idx]) for key, val in self.encodings.items()} # comprehension (shortcut)\n",
        "\n",
        "  # returns the length of our dataset\n",
        "  def __len__(self):\n",
        "    return len(self.encodings.input_ids)"
      ],
      "metadata": {
        "id": "gWLvhlxc4gBN"
      },
      "execution_count": null,
      "outputs": []
    },
    {
      "cell_type": "code",
      "source": [
        "# Datasets for the training and validations sets\n",
        "train_data = Custom_Dataset(train_tokenized)\n",
        "val_data = Custom_Dataset(val_tokenized)"
      ],
      "metadata": {
        "id": "dKpY49QVuN9D"
      },
      "execution_count": null,
      "outputs": []
    },
    {
      "cell_type": "code",
      "source": [
        "# Used to help us iterate over our dataset conveniently, especially when we have batches\n",
        "train_dataloader = DataLoader(train_data, batch_size=8, shuffle=True)\n",
        "val_dataloader = DataLoader(val_data, batch_size=8, shuffle=True)"
      ],
      "metadata": {
        "id": "gMiZgaZmufHn"
      },
      "execution_count": null,
      "outputs": []
    },
    {
      "cell_type": "code",
      "source": [
        "from transformers import RobertaForQuestionAnswering # This is the BERT model used for question answering\n",
        "\n",
        "# BERT model already finetuned for question answering\n",
        "model = RobertaForQuestionAnswering.from_pretrained('roberta-base')"
      ],
      "metadata": {
        "colab": {
          "base_uri": "https://localhost:8080/"
        },
        "id": "aL_FIeJ4lZsg",
        "outputId": "d006fff8-f561-481d-ab57-08db0d2823d2"
      },
      "execution_count": null,
      "outputs": [
        {
          "output_type": "stream",
          "name": "stderr",
          "text": [
            "Some weights of the model checkpoint at roberta-base were not used when initializing RobertaForQuestionAnswering: ['lm_head.bias', 'lm_head.dense.weight', 'lm_head.layer_norm.weight', 'lm_head.layer_norm.bias', 'lm_head.decoder.weight', 'lm_head.dense.bias']\n",
            "- This IS expected if you are initializing RobertaForQuestionAnswering from the checkpoint of a model trained on another task or with another architecture (e.g. initializing a BertForSequenceClassification model from a BertForPreTraining model).\n",
            "- This IS NOT expected if you are initializing RobertaForQuestionAnswering from the checkpoint of a model that you expect to be exactly identical (initializing a BertForSequenceClassification model from a BertForSequenceClassification model).\n",
            "Some weights of RobertaForQuestionAnswering were not initialized from the model checkpoint at roberta-base and are newly initialized: ['qa_outputs.weight', 'qa_outputs.bias']\n",
            "You should probably TRAIN this model on a down-stream task to be able to use it for predictions and inference.\n"
          ]
        }
      ]
    },
    {
      "cell_type": "code",
      "source": [
        "# from transformers import AdamW\n",
        "\n",
        "lr= 1e-5 \n",
        "optimizer= torch.optim.AdamW(model.parameters(), lr=lr)"
      ],
      "metadata": {
        "id": "wzXtHdsPxehb"
      },
      "execution_count": null,
      "outputs": []
    },
    {
      "cell_type": "code",
      "source": [
        "model = model.to(device)\n",
        "print(model)"
      ],
      "metadata": {
        "colab": {
          "base_uri": "https://localhost:8080/"
        },
        "id": "rgW5fXDvf8g2",
        "outputId": "759a69ee-12a1-46cc-8712-5ec711122dff"
      },
      "execution_count": null,
      "outputs": [
        {
          "output_type": "stream",
          "name": "stdout",
          "text": [
            "RobertaForQuestionAnswering(\n",
            "  (roberta): RobertaModel(\n",
            "    (embeddings): RobertaEmbeddings(\n",
            "      (word_embeddings): Embedding(50265, 768, padding_idx=1)\n",
            "      (position_embeddings): Embedding(514, 768, padding_idx=1)\n",
            "      (token_type_embeddings): Embedding(1, 768)\n",
            "      (LayerNorm): LayerNorm((768,), eps=1e-05, elementwise_affine=True)\n",
            "      (dropout): Dropout(p=0.1, inplace=False)\n",
            "    )\n",
            "    (encoder): RobertaEncoder(\n",
            "      (layer): ModuleList(\n",
            "        (0): RobertaLayer(\n",
            "          (attention): RobertaAttention(\n",
            "            (self): RobertaSelfAttention(\n",
            "              (query): Linear(in_features=768, out_features=768, bias=True)\n",
            "              (key): Linear(in_features=768, out_features=768, bias=True)\n",
            "              (value): Linear(in_features=768, out_features=768, bias=True)\n",
            "              (dropout): Dropout(p=0.1, inplace=False)\n",
            "            )\n",
            "            (output): RobertaSelfOutput(\n",
            "              (dense): Linear(in_features=768, out_features=768, bias=True)\n",
            "              (LayerNorm): LayerNorm((768,), eps=1e-05, elementwise_affine=True)\n",
            "              (dropout): Dropout(p=0.1, inplace=False)\n",
            "            )\n",
            "          )\n",
            "          (intermediate): RobertaIntermediate(\n",
            "            (dense): Linear(in_features=768, out_features=3072, bias=True)\n",
            "            (intermediate_act_fn): GELUActivation()\n",
            "          )\n",
            "          (output): RobertaOutput(\n",
            "            (dense): Linear(in_features=3072, out_features=768, bias=True)\n",
            "            (LayerNorm): LayerNorm((768,), eps=1e-05, elementwise_affine=True)\n",
            "            (dropout): Dropout(p=0.1, inplace=False)\n",
            "          )\n",
            "        )\n",
            "        (1): RobertaLayer(\n",
            "          (attention): RobertaAttention(\n",
            "            (self): RobertaSelfAttention(\n",
            "              (query): Linear(in_features=768, out_features=768, bias=True)\n",
            "              (key): Linear(in_features=768, out_features=768, bias=True)\n",
            "              (value): Linear(in_features=768, out_features=768, bias=True)\n",
            "              (dropout): Dropout(p=0.1, inplace=False)\n",
            "            )\n",
            "            (output): RobertaSelfOutput(\n",
            "              (dense): Linear(in_features=768, out_features=768, bias=True)\n",
            "              (LayerNorm): LayerNorm((768,), eps=1e-05, elementwise_affine=True)\n",
            "              (dropout): Dropout(p=0.1, inplace=False)\n",
            "            )\n",
            "          )\n",
            "          (intermediate): RobertaIntermediate(\n",
            "            (dense): Linear(in_features=768, out_features=3072, bias=True)\n",
            "            (intermediate_act_fn): GELUActivation()\n",
            "          )\n",
            "          (output): RobertaOutput(\n",
            "            (dense): Linear(in_features=3072, out_features=768, bias=True)\n",
            "            (LayerNorm): LayerNorm((768,), eps=1e-05, elementwise_affine=True)\n",
            "            (dropout): Dropout(p=0.1, inplace=False)\n",
            "          )\n",
            "        )\n",
            "        (2): RobertaLayer(\n",
            "          (attention): RobertaAttention(\n",
            "            (self): RobertaSelfAttention(\n",
            "              (query): Linear(in_features=768, out_features=768, bias=True)\n",
            "              (key): Linear(in_features=768, out_features=768, bias=True)\n",
            "              (value): Linear(in_features=768, out_features=768, bias=True)\n",
            "              (dropout): Dropout(p=0.1, inplace=False)\n",
            "            )\n",
            "            (output): RobertaSelfOutput(\n",
            "              (dense): Linear(in_features=768, out_features=768, bias=True)\n",
            "              (LayerNorm): LayerNorm((768,), eps=1e-05, elementwise_affine=True)\n",
            "              (dropout): Dropout(p=0.1, inplace=False)\n",
            "            )\n",
            "          )\n",
            "          (intermediate): RobertaIntermediate(\n",
            "            (dense): Linear(in_features=768, out_features=3072, bias=True)\n",
            "            (intermediate_act_fn): GELUActivation()\n",
            "          )\n",
            "          (output): RobertaOutput(\n",
            "            (dense): Linear(in_features=3072, out_features=768, bias=True)\n",
            "            (LayerNorm): LayerNorm((768,), eps=1e-05, elementwise_affine=True)\n",
            "            (dropout): Dropout(p=0.1, inplace=False)\n",
            "          )\n",
            "        )\n",
            "        (3): RobertaLayer(\n",
            "          (attention): RobertaAttention(\n",
            "            (self): RobertaSelfAttention(\n",
            "              (query): Linear(in_features=768, out_features=768, bias=True)\n",
            "              (key): Linear(in_features=768, out_features=768, bias=True)\n",
            "              (value): Linear(in_features=768, out_features=768, bias=True)\n",
            "              (dropout): Dropout(p=0.1, inplace=False)\n",
            "            )\n",
            "            (output): RobertaSelfOutput(\n",
            "              (dense): Linear(in_features=768, out_features=768, bias=True)\n",
            "              (LayerNorm): LayerNorm((768,), eps=1e-05, elementwise_affine=True)\n",
            "              (dropout): Dropout(p=0.1, inplace=False)\n",
            "            )\n",
            "          )\n",
            "          (intermediate): RobertaIntermediate(\n",
            "            (dense): Linear(in_features=768, out_features=3072, bias=True)\n",
            "            (intermediate_act_fn): GELUActivation()\n",
            "          )\n",
            "          (output): RobertaOutput(\n",
            "            (dense): Linear(in_features=3072, out_features=768, bias=True)\n",
            "            (LayerNorm): LayerNorm((768,), eps=1e-05, elementwise_affine=True)\n",
            "            (dropout): Dropout(p=0.1, inplace=False)\n",
            "          )\n",
            "        )\n",
            "        (4): RobertaLayer(\n",
            "          (attention): RobertaAttention(\n",
            "            (self): RobertaSelfAttention(\n",
            "              (query): Linear(in_features=768, out_features=768, bias=True)\n",
            "              (key): Linear(in_features=768, out_features=768, bias=True)\n",
            "              (value): Linear(in_features=768, out_features=768, bias=True)\n",
            "              (dropout): Dropout(p=0.1, inplace=False)\n",
            "            )\n",
            "            (output): RobertaSelfOutput(\n",
            "              (dense): Linear(in_features=768, out_features=768, bias=True)\n",
            "              (LayerNorm): LayerNorm((768,), eps=1e-05, elementwise_affine=True)\n",
            "              (dropout): Dropout(p=0.1, inplace=False)\n",
            "            )\n",
            "          )\n",
            "          (intermediate): RobertaIntermediate(\n",
            "            (dense): Linear(in_features=768, out_features=3072, bias=True)\n",
            "            (intermediate_act_fn): GELUActivation()\n",
            "          )\n",
            "          (output): RobertaOutput(\n",
            "            (dense): Linear(in_features=3072, out_features=768, bias=True)\n",
            "            (LayerNorm): LayerNorm((768,), eps=1e-05, elementwise_affine=True)\n",
            "            (dropout): Dropout(p=0.1, inplace=False)\n",
            "          )\n",
            "        )\n",
            "        (5): RobertaLayer(\n",
            "          (attention): RobertaAttention(\n",
            "            (self): RobertaSelfAttention(\n",
            "              (query): Linear(in_features=768, out_features=768, bias=True)\n",
            "              (key): Linear(in_features=768, out_features=768, bias=True)\n",
            "              (value): Linear(in_features=768, out_features=768, bias=True)\n",
            "              (dropout): Dropout(p=0.1, inplace=False)\n",
            "            )\n",
            "            (output): RobertaSelfOutput(\n",
            "              (dense): Linear(in_features=768, out_features=768, bias=True)\n",
            "              (LayerNorm): LayerNorm((768,), eps=1e-05, elementwise_affine=True)\n",
            "              (dropout): Dropout(p=0.1, inplace=False)\n",
            "            )\n",
            "          )\n",
            "          (intermediate): RobertaIntermediate(\n",
            "            (dense): Linear(in_features=768, out_features=3072, bias=True)\n",
            "            (intermediate_act_fn): GELUActivation()\n",
            "          )\n",
            "          (output): RobertaOutput(\n",
            "            (dense): Linear(in_features=3072, out_features=768, bias=True)\n",
            "            (LayerNorm): LayerNorm((768,), eps=1e-05, elementwise_affine=True)\n",
            "            (dropout): Dropout(p=0.1, inplace=False)\n",
            "          )\n",
            "        )\n",
            "        (6): RobertaLayer(\n",
            "          (attention): RobertaAttention(\n",
            "            (self): RobertaSelfAttention(\n",
            "              (query): Linear(in_features=768, out_features=768, bias=True)\n",
            "              (key): Linear(in_features=768, out_features=768, bias=True)\n",
            "              (value): Linear(in_features=768, out_features=768, bias=True)\n",
            "              (dropout): Dropout(p=0.1, inplace=False)\n",
            "            )\n",
            "            (output): RobertaSelfOutput(\n",
            "              (dense): Linear(in_features=768, out_features=768, bias=True)\n",
            "              (LayerNorm): LayerNorm((768,), eps=1e-05, elementwise_affine=True)\n",
            "              (dropout): Dropout(p=0.1, inplace=False)\n",
            "            )\n",
            "          )\n",
            "          (intermediate): RobertaIntermediate(\n",
            "            (dense): Linear(in_features=768, out_features=3072, bias=True)\n",
            "            (intermediate_act_fn): GELUActivation()\n",
            "          )\n",
            "          (output): RobertaOutput(\n",
            "            (dense): Linear(in_features=3072, out_features=768, bias=True)\n",
            "            (LayerNorm): LayerNorm((768,), eps=1e-05, elementwise_affine=True)\n",
            "            (dropout): Dropout(p=0.1, inplace=False)\n",
            "          )\n",
            "        )\n",
            "        (7): RobertaLayer(\n",
            "          (attention): RobertaAttention(\n",
            "            (self): RobertaSelfAttention(\n",
            "              (query): Linear(in_features=768, out_features=768, bias=True)\n",
            "              (key): Linear(in_features=768, out_features=768, bias=True)\n",
            "              (value): Linear(in_features=768, out_features=768, bias=True)\n",
            "              (dropout): Dropout(p=0.1, inplace=False)\n",
            "            )\n",
            "            (output): RobertaSelfOutput(\n",
            "              (dense): Linear(in_features=768, out_features=768, bias=True)\n",
            "              (LayerNorm): LayerNorm((768,), eps=1e-05, elementwise_affine=True)\n",
            "              (dropout): Dropout(p=0.1, inplace=False)\n",
            "            )\n",
            "          )\n",
            "          (intermediate): RobertaIntermediate(\n",
            "            (dense): Linear(in_features=768, out_features=3072, bias=True)\n",
            "            (intermediate_act_fn): GELUActivation()\n",
            "          )\n",
            "          (output): RobertaOutput(\n",
            "            (dense): Linear(in_features=3072, out_features=768, bias=True)\n",
            "            (LayerNorm): LayerNorm((768,), eps=1e-05, elementwise_affine=True)\n",
            "            (dropout): Dropout(p=0.1, inplace=False)\n",
            "          )\n",
            "        )\n",
            "        (8): RobertaLayer(\n",
            "          (attention): RobertaAttention(\n",
            "            (self): RobertaSelfAttention(\n",
            "              (query): Linear(in_features=768, out_features=768, bias=True)\n",
            "              (key): Linear(in_features=768, out_features=768, bias=True)\n",
            "              (value): Linear(in_features=768, out_features=768, bias=True)\n",
            "              (dropout): Dropout(p=0.1, inplace=False)\n",
            "            )\n",
            "            (output): RobertaSelfOutput(\n",
            "              (dense): Linear(in_features=768, out_features=768, bias=True)\n",
            "              (LayerNorm): LayerNorm((768,), eps=1e-05, elementwise_affine=True)\n",
            "              (dropout): Dropout(p=0.1, inplace=False)\n",
            "            )\n",
            "          )\n",
            "          (intermediate): RobertaIntermediate(\n",
            "            (dense): Linear(in_features=768, out_features=3072, bias=True)\n",
            "            (intermediate_act_fn): GELUActivation()\n",
            "          )\n",
            "          (output): RobertaOutput(\n",
            "            (dense): Linear(in_features=3072, out_features=768, bias=True)\n",
            "            (LayerNorm): LayerNorm((768,), eps=1e-05, elementwise_affine=True)\n",
            "            (dropout): Dropout(p=0.1, inplace=False)\n",
            "          )\n",
            "        )\n",
            "        (9): RobertaLayer(\n",
            "          (attention): RobertaAttention(\n",
            "            (self): RobertaSelfAttention(\n",
            "              (query): Linear(in_features=768, out_features=768, bias=True)\n",
            "              (key): Linear(in_features=768, out_features=768, bias=True)\n",
            "              (value): Linear(in_features=768, out_features=768, bias=True)\n",
            "              (dropout): Dropout(p=0.1, inplace=False)\n",
            "            )\n",
            "            (output): RobertaSelfOutput(\n",
            "              (dense): Linear(in_features=768, out_features=768, bias=True)\n",
            "              (LayerNorm): LayerNorm((768,), eps=1e-05, elementwise_affine=True)\n",
            "              (dropout): Dropout(p=0.1, inplace=False)\n",
            "            )\n",
            "          )\n",
            "          (intermediate): RobertaIntermediate(\n",
            "            (dense): Linear(in_features=768, out_features=3072, bias=True)\n",
            "            (intermediate_act_fn): GELUActivation()\n",
            "          )\n",
            "          (output): RobertaOutput(\n",
            "            (dense): Linear(in_features=3072, out_features=768, bias=True)\n",
            "            (LayerNorm): LayerNorm((768,), eps=1e-05, elementwise_affine=True)\n",
            "            (dropout): Dropout(p=0.1, inplace=False)\n",
            "          )\n",
            "        )\n",
            "        (10): RobertaLayer(\n",
            "          (attention): RobertaAttention(\n",
            "            (self): RobertaSelfAttention(\n",
            "              (query): Linear(in_features=768, out_features=768, bias=True)\n",
            "              (key): Linear(in_features=768, out_features=768, bias=True)\n",
            "              (value): Linear(in_features=768, out_features=768, bias=True)\n",
            "              (dropout): Dropout(p=0.1, inplace=False)\n",
            "            )\n",
            "            (output): RobertaSelfOutput(\n",
            "              (dense): Linear(in_features=768, out_features=768, bias=True)\n",
            "              (LayerNorm): LayerNorm((768,), eps=1e-05, elementwise_affine=True)\n",
            "              (dropout): Dropout(p=0.1, inplace=False)\n",
            "            )\n",
            "          )\n",
            "          (intermediate): RobertaIntermediate(\n",
            "            (dense): Linear(in_features=768, out_features=3072, bias=True)\n",
            "            (intermediate_act_fn): GELUActivation()\n",
            "          )\n",
            "          (output): RobertaOutput(\n",
            "            (dense): Linear(in_features=3072, out_features=768, bias=True)\n",
            "            (LayerNorm): LayerNorm((768,), eps=1e-05, elementwise_affine=True)\n",
            "            (dropout): Dropout(p=0.1, inplace=False)\n",
            "          )\n",
            "        )\n",
            "        (11): RobertaLayer(\n",
            "          (attention): RobertaAttention(\n",
            "            (self): RobertaSelfAttention(\n",
            "              (query): Linear(in_features=768, out_features=768, bias=True)\n",
            "              (key): Linear(in_features=768, out_features=768, bias=True)\n",
            "              (value): Linear(in_features=768, out_features=768, bias=True)\n",
            "              (dropout): Dropout(p=0.1, inplace=False)\n",
            "            )\n",
            "            (output): RobertaSelfOutput(\n",
            "              (dense): Linear(in_features=768, out_features=768, bias=True)\n",
            "              (LayerNorm): LayerNorm((768,), eps=1e-05, elementwise_affine=True)\n",
            "              (dropout): Dropout(p=0.1, inplace=False)\n",
            "            )\n",
            "          )\n",
            "          (intermediate): RobertaIntermediate(\n",
            "            (dense): Linear(in_features=768, out_features=3072, bias=True)\n",
            "            (intermediate_act_fn): GELUActivation()\n",
            "          )\n",
            "          (output): RobertaOutput(\n",
            "            (dense): Linear(in_features=3072, out_features=768, bias=True)\n",
            "            (LayerNorm): LayerNorm((768,), eps=1e-05, elementwise_affine=True)\n",
            "            (dropout): Dropout(p=0.1, inplace=False)\n",
            "          )\n",
            "        )\n",
            "      )\n",
            "    )\n",
            "  )\n",
            "  (qa_outputs): Linear(in_features=768, out_features=2, bias=True)\n",
            ")\n"
          ]
        }
      ]
    },
    {
      "cell_type": "code",
      "source": [
        "from IPython.display import clear_output"
      ],
      "metadata": {
        "id": "-13QH91ExovG"
      },
      "execution_count": null,
      "outputs": []
    },
    {
      "cell_type": "code",
      "source": [
        "# def train(model, train_dataloader):\n",
        "best_train_loss = float('inf')\n",
        "train_accuracies = []\n",
        "losses = []\n",
        "# run loop 3 times\n",
        "for epoch in range(10):\n",
        "  # first, set the mode of the model to train\n",
        "  model.train()\n",
        "\n",
        "  # progress bar\n",
        "  loop = tqdm(train_dataloader, leave=True)\n",
        "\n",
        "  # loop over each batch \n",
        "  for batch in loop:\n",
        "    # zero out the optimizer\n",
        "    optimizer.zero_grad()\n",
        "\n",
        "    # grab the batch attributes and attach them to the GPU device\n",
        "    input_ids, attention_mask, start_positions, end_positions = batch['input_ids'].to(device), batch['attention_mask'].to(device), batch['start_positions'].to(device), batch['end_positions'].to(device)\n",
        "\n",
        "    # Feedforward!!!\n",
        "    outputs = model(input_ids, attention_mask, start_positions=start_positions, end_positions=end_positions)\n",
        "\n",
        "    # Compute the Loss\n",
        "    loss = outputs[0]\n",
        "\n",
        "    # BACKPROPAGATION!!!!\n",
        "    loss.backward()\n",
        "\n",
        "    # update parameters for the next run\n",
        "    optimizer.step()\n",
        "\n",
        "    losses.append(loss.item())\n",
        "\n",
        "    # get the prediction for the start and end token for answer\n",
        "    start_probs = outputs['start_logits']\n",
        "    end_probs = outputs['end_logits']\n",
        "    \n",
        "    start_pred = torch.argmax(start_probs, dim=1)\n",
        "    end_pred = torch.argmax(end_probs, dim=1)\n",
        "    \n",
        "    # append the accuracy\n",
        "    train_accuracies.append(((start_pred == start_positions).sum() / len(start_pred)).item())\n",
        "    train_accuracies.append(((end_pred == end_positions).sum() / len(end_pred)).item())\n",
        "    \n",
        "    avg_acc = sum(train_accuracies) / len(train_accuracies)\n",
        "    if loss.item() < best_train_loss:\n",
        "      best_train_loss = loss.item()\n",
        "      torch.save(model.state_dict(), 'Roberta_QA.pt')\n",
        "\n",
        "    print(f'[{epoch + 1}] \\nloss_total: {loss.item():.2f},\\nTrain_accuracy: {avg_acc*100:.2f} %')\n",
        "    clear_output(wait=True) \n",
        "    # display some stuff here\n",
        "    loop.set_description(f'Epoch {epoch}')\n",
        "    loop.set_postfix(loss=loss.item())"
      ],
      "metadata": {
        "id": "PZC7CdEQ8G5G",
        "colab": {
          "base_uri": "https://localhost:8080/"
        },
        "outputId": "ee7df203-4dcb-427e-8fd7-c3ee01d5a3b5"
      },
      "execution_count": null,
      "outputs": [
        {
          "output_type": "stream",
          "name": "stderr",
          "text": [
            "Epoch 9: 100%|██████████| 202/202 [02:44<00:00,  1.23it/s, loss=0.00017]\n"
          ]
        }
      ]
    },
    {
      "cell_type": "code",
      "source": [
        "import pickle\n",
        "\n",
        "with open(\"train_loss\", \"wb\") as fp:   #Pickling\n",
        "  pickle.dump(losses, fp)\n",
        "\n",
        "with open(\"train_accuracy\", \"wb\") as fp:   #Pickling\n",
        "  pickle.dump(train_accuracies, fp)"
      ],
      "metadata": {
        "id": "0E5QChFc3Zh0"
      },
      "execution_count": null,
      "outputs": []
    },
    {
      "cell_type": "code",
      "source": [
        "# write code here for 4.5\n",
        "import matplotlib.pyplot as plt\n",
        "fig = plt.figure(figsize=(15, 10))\n",
        "ax1 = fig.add_subplot(2, 1, 1)\n",
        "ax2 = fig.add_subplot(2, 1, 2)\n",
        "ax1.plot(losses, label = 'train loss')\n",
        "ax2.plot(train_accuracies, label = 'train acc')\n",
        "plt.legend()\n",
        "ax1.set_xlabel('epoches')\n",
        "ax1.set_ylabel('loss')\n",
        "ax2.set_xlabel('epoches')\n",
        "ax2.set_ylabel('acc')\n"
      ],
      "metadata": {
        "colab": {
          "base_uri": "https://localhost:8080/",
          "height": 624
        },
        "id": "_zIel9fy3oJX",
        "outputId": "09c8d176-0348-4c97-a620-01ec0aaea69d"
      },
      "execution_count": null,
      "outputs": [
        {
          "output_type": "execute_result",
          "data": {
            "text/plain": [
              "Text(0, 0.5, 'acc')"
            ]
          },
          "metadata": {},
          "execution_count": 69
        },
        {
          "output_type": "display_data",
          "data": {
            "text/plain": [
              "<Figure size 1080x720 with 2 Axes>"
            ],
            "image/png": "[encoded data removed]"
          },
          "metadata": {
            "needs_background": "light"
          }
        }
      ]
    },
    {
      "cell_type": "code",
      "source": [
        "\n",
        "model.load_state_dict(torch.load('/content/drive/MyDrive/NLU/Roberta_QA.pt'))\n",
        "best_train_loss = float('inf')\n",
        "test_accuracies = []\n",
        "test_losses = []\n",
        "# run loop 3 times\n",
        "for epoch in range(10):\n",
        "  # first, set the mode of the model to train\n",
        "  # model.train()\n",
        "\n",
        "  # progress bar\n",
        "  loop = tqdm(val_dataloader, leave=True)\n",
        "  with torch.no_grad():\n",
        "    # loop over each batch \n",
        "    for batch in loop:\n",
        "      # zero out the optimizer\n",
        "      # optimizer.zero_grad()\n",
        "\n",
        "      # grab the batch attributes and attach them to the GPU device\n",
        "      input_ids, attention_mask, start_positions, end_positions = batch['input_ids'].to(device), batch['attention_mask'].to(device), batch['start_positions'].to(device), batch['end_positions'].to(device)\n",
        "\n",
        "      # Feedforward!!!\n",
        "      outputs = model(input_ids, attention_mask, start_positions=start_positions, end_positions=end_positions)\n",
        "\n",
        "      # Compute the Loss\n",
        "      loss = outputs[0]\n",
        "\n",
        "      # BACKPROPAGATION!!!!\n",
        "      # loss.backward()\n",
        "\n",
        "      # update parameters for the next run\n",
        "      # optimizer.step()\n",
        "\n",
        "      test_losses.append(loss.item())\n",
        "      \n",
        "      # get the prediction for the start and end token for answer\n",
        "      start_probs = outputs['start_logits']\n",
        "      end_probs = outputs['end_logits']\n",
        "      \n",
        "      start_pred = torch.argmax(start_probs, dim=1)\n",
        "      end_pred = torch.argmax(end_probs, dim=1)\n",
        "      \n",
        "      # append the accuracy\n",
        "      test_accuracies.append(((start_pred == start_positions).sum() / len(start_pred)).item())\n",
        "      test_accuracies.append(((end_pred == end_positions).sum() / len(end_pred)).item())\n",
        "      \n",
        "      avg_acc = sum(test_accuracies) / len(test_accuracies)\n",
        "      print(f'[{epoch + 1}] \\nloss_total: {loss.item():.2f},\\nTrain_accuracy: {avg_acc*100:.2f} %')\n",
        "      clear_output(wait=True) \n",
        "      # display some stuff here\n",
        "      loop.set_description(f'Epoch {epoch}')\n",
        "      loop.set_postfix(loss=loss.item())"
      ],
      "metadata": {
        "colab": {
          "base_uri": "https://localhost:8080/"
        },
        "id": "GxKaGVxl42hT",
        "outputId": "6e1f96a9-03df-45f7-dfa5-ccfbcedec18f"
      },
      "execution_count": null,
      "outputs": [
        {
          "output_type": "stream",
          "name": "stderr",
          "text": [
            "Epoch 9: 100%|██████████| 51/51 [00:14<00:00,  3.50it/s, loss=4.69e-5]\n"
          ]
        }
      ]
    },
    {
      "cell_type": "code",
      "source": [
        "test_accuracies[-1]"
      ],
      "metadata": {
        "colab": {
          "base_uri": "https://localhost:8080/"
        },
        "id": "_YBXTmS94pl4",
        "outputId": "7a6f50ae-8213-4f08-a6cf-16d54380339f"
      },
      "execution_count": null,
      "outputs": [
        {
          "output_type": "execute_result",
          "data": {
            "text/plain": [
              "1.0"
            ]
          },
          "metadata": {},
          "execution_count": 44
        }
      ]
    },
    {
      "cell_type": "code",
      "source": [
        "import pickle\n",
        "\n",
        "with open(\"train_loss\", \"wb\") as fp:   #Pickling\n",
        "  pickle.dump(test_losses, fp)\n",
        "\n",
        "with open(\"train_accuracy\", \"wb\") as fp:   #Pickling\n",
        "  pickle.dump(test_accuracies, fp)"
      ],
      "metadata": {
        "id": "CNuhwluN5bRG"
      },
      "execution_count": null,
      "outputs": []
    },
    {
      "cell_type": "code",
      "source": [
        "len(test_accuracies)"
      ],
      "metadata": {
        "colab": {
          "base_uri": "https://localhost:8080/"
        },
        "id": "ASsEfsEKSv1b",
        "outputId": "0d17bfb5-021d-4f8b-f60c-12bf130f5833"
      },
      "execution_count": null,
      "outputs": [
        {
          "output_type": "execute_result",
          "data": {
            "text/plain": [
              "1020"
            ]
          },
          "metadata": {},
          "execution_count": 61
        }
      ]
    },
    {
      "cell_type": "code",
      "source": [
        "# write code here for 4.5\n",
        "import matplotlib.pyplot as plt\n",
        "fig = plt.figure(figsize=(15, 10))\n",
        "ax1 = fig.add_subplot(2, 1, 1)\n",
        "ax2 = fig.add_subplot(2, 1, 2)\n",
        "ax1.plot(test_losses, label = 'train loss')\n",
        "ax2.plot(test_accuracies, label = 'train acc')\n",
        "plt.legend()\n",
        "ax1.set_xlabel('epoches')\n",
        "ax1.set_ylabel('loss')\n",
        "ax2.set_xlabel('epoches')\n",
        "ax2.set_ylabel('acc')\n"
      ],
      "metadata": {
        "colab": {
          "base_uri": "https://localhost:8080/",
          "height": 624
        },
        "id": "kOky0Cbs6H_S",
        "outputId": "ae72fa43-ed8b-4803-b4c7-dff4d9d21099"
      },
      "execution_count": null,
      "outputs": [
        {
          "output_type": "execute_result",
          "data": {
            "text/plain": [
              "Text(0, 0.5, 'acc')"
            ]
          },
          "metadata": {},
          "execution_count": 67
        },
        {
          "output_type": "display_data",
          "data": {
            "text/plain": [
              "<Figure size 1080x720 with 2 Axes>"
            ],
            "image/png": "[encoded data removed]"
          },
          "metadata": {
            "needs_background": "light"
          }
        }
      ]
    },
    {
      "cell_type": "code",
      "source": [
        "val_questions[0]"
      ],
      "metadata": {
        "colab": {
          "base_uri": "https://localhost:8080/",
          "height": 36
        },
        "id": "JJV42yO78uFg",
        "outputId": "874205fb-8798-469f-cd03-d8496d6bd4c7"
      },
      "execution_count": null,
      "outputs": [
        {
          "output_type": "execute_result",
          "data": {
            "text/plain": [
              "'What are other  effects?'"
            ],
            "application/vnd.google.colaboratory.intrinsic+json": {
              "type": "string"
            }
          },
          "metadata": {},
          "execution_count": 47
        }
      ]
    },
    {
      "cell_type": "code",
      "source": [
        "val_contexts[0]"
      ],
      "metadata": {
        "colab": {
          "base_uri": "https://localhost:8080/",
          "height": 108
        },
        "id": "h8EFUTMP8z4F",
        "outputId": "260eb766-bcc5-419d-e2e9-d1c37237e56c"
      },
      "execution_count": null,
      "outputs": [
        {
          "output_type": "execute_result",
          "data": {
            "text/plain": [
              "'Respiratory Viral Infections in Exacerbation of Chronic Airway Inflammatory Diseases: Novel Mechanisms and Insights From the Upper Airway Epithelium\\n\\nhttps://www.ncbi.nlm.nih.gov/pmc/articles/PMC7052386/\\n\\nSHA: 45a566c71056ba4faab425b4f7e9edee6320e4a4\\n\\nAuthors: Tan, Kai Sen; Lim, Rachel Liyu; Liu, Jing; Ong, Hsiao Hui; Tan, Vivian Jiayi; Lim, Hui Fang; Chung, Kian Fan; Adcock, Ian M.; Chow, Vincent T.; Wang, De Yun\\nDate: 2020-02-25\\nDOI: 10.3389/fcell.2020.00099\\nLicense: cc-by\\n\\nAbstract: Respiratory virus infection is one of the major sources of exacerbation of chronic airway inflammatory diseases. These exacerbations are associated with high morbidity and even mortality worldwide. The current understanding on viral-induced exacerbations is that viral infection increases airway inflammation which aggravates disease symptoms. Recent advances in in vitro air-liquid interface 3D cultures, organoid cultures and the use of novel human and animal challenge models have evoked new understandings as to the mechanisms of viral exacerbations. In this review, we will focus on recent novel findings that elucidate how respiratory viral infections alter the epithelial barrier in the airways, the upper airway microbial environment, epigenetic modifications including miRNA modulation, and other changes in immune responses throughout the upper and lower airways. First, we reviewed the prevalence of different respiratory viral infections in causing exacerbations in chronic airway inflammatory diseases. Subsequently we also summarized how recent models have expanded our appreciation of the mechanisms of viral-induced exacerbations. Further we highlighted the importance of the virome within the airway microbiome environment and its impact on subsequent bacterial infection. This review consolidates the understanding of viral induced exacerbation in chronic airway inflammatory diseases and indicates pathways that may be targeted for more effective management of chronic inflammatory diseases.\\n\\nText: The prevalence of chronic airway inflammatory disease is increasing worldwide especially in developed nations (GBD 2015 Chronic Respiratory Disease Collaborators, 2017 Guan et al., 2018) . This disease is characterized by airway inflammation leading to complications such as coughing, wheezing and shortness of breath. The disease can manifest in both the upper airway (such as chronic rhinosinusitis, CRS) and lower airway (such as asthma and chronic obstructive pulmonary disease, COPD) which greatly affect the patients\\' quality of life (Calus et al., 2012; Bao et al., 2015) . Treatment and management vary greatly in efficacy due to the complexity and heterogeneity of the disease. This is further complicated by the effect of episodic exacerbations of the disease, defined as worsening of disease symptoms including wheeze, cough, breathlessness and chest tightness (Xepapadaki and Papadopoulos, 2010) . Such exacerbations are due to the effect of enhanced acute airway inflammation impacting upon and worsening the symptoms of the existing disease (Hashimoto et al., 2008; Viniol and Vogelmeier, 2018) . These acute exacerbations are the main cause of morbidity and sometimes mortality in patients, as well as resulting in major economic burdens worldwide. However, due to the complex interactions between the host and the exacerbation agents, the mechanisms of exacerbation may vary considerably in different individuals under various triggers. Acute exacerbations are usually due to the presence of environmental factors such as allergens, pollutants, smoke, cold or dry air and pathogenic microbes in the airway (Gautier and Charpin, 2017; Viniol and Vogelmeier, 2018) . These agents elicit an immune response leading to infiltration of activated immune cells that further release inflammatory mediators that cause acute symptoms such as increased mucus production, cough, wheeze and shortness of breath. Among these agents, viral infection is one of the major drivers of asthma exacerbations accounting for up to 80-90% and 45-80% of exacerbations in children and adults respectively (Grissell et al., 2005; Xepapadaki and Papadopoulos, 2010; Jartti and Gern, 2017; Adeli et al., 2019) . Viral involvement in COPD exacerbation is also equally high, having been detected in 30-80% of acute COPD exacerbations (Kherad et al., 2010; Jafarinejad et al., 2017; Stolz et al., 2019) . Whilst the prevalence of viral exacerbations in CRS is still unclear, its prevalence is likely to be high due to the similar inflammatory nature of these diseases (Rowan et al., 2015; Tan et al., 2017) . One of the reasons for the involvement of respiratory viruses\\' in exacerbations is their ease of transmission and infection (Kutter et al., 2018) . In addition, the high diversity of the respiratory viruses may also contribute to exacerbations of different nature and severity (Busse et al., 2010; Costa et al., 2014; Jartti and Gern, 2017) . Hence, it is important to identify the exact mechanisms underpinning viral exacerbations in susceptible subjects in order to properly manage exacerbations via supplementary treatments that may alleviate the exacerbation symptoms or prevent severe exacerbations.\\n\\nWhile the lower airway is the site of dysregulated inflammation in most chronic airway inflammatory diseases, the upper airway remains the first point of contact with sources of exacerbation. Therefore, their interaction with the exacerbation agents may directly contribute to the subsequent responses in the lower airway, in line with the \"United Airway\" hypothesis. To elucidate the host airway interaction with viruses leading to exacerbations, we thus focus our review on recent findings of viral interaction with the upper airway. We compiled how viral induced changes to the upper airway may contribute to chronic airway inflammatory disease exacerbations, to provide a unified elucidation of the potential exacerbation mechanisms initiated from predominantly upper airway infections.\\n\\nDespite being a major cause of exacerbation, reports linking respiratory viruses to acute exacerbations only start to emerge in the late 1950s (Pattemore et al., 1992) ; with bacterial infections previously considered as the likely culprit for acute exacerbation (Stevens, 1953; Message and Johnston, 2002) . However, with the advent of PCR technology, more viruses were recovered during acute exacerbations events and reports implicating their role emerged in the late 1980s (Message and Johnston, 2002) . Rhinovirus (RV) and respiratory syncytial virus (RSV) are the predominant viruses linked to the development and exacerbation of chronic airway inflammatory diseases (Jartti and Gern, 2017) . Other viruses such as parainfluenza virus (PIV), influenza virus (IFV) and adenovirus (AdV) have also been implicated in acute exacerbations but to a much lesser extent (Johnston et al., 2005; Oliver et al., 2014; Ko et al., 2019) . More recently, other viruses including bocavirus (BoV), human metapneumovirus (HMPV), certain coronavirus (CoV) strains, a specific enterovirus (EV) strain EV-D68, human cytomegalovirus (hCMV) and herpes simplex virus (HSV) have been reported as contributing to acute exacerbations . The common feature these viruses share is that they can infect both the upper and/or lower airway, further increasing the inflammatory conditions in the diseased airway (Mallia and Johnston, 2006; Britto et al., 2017) .\\n\\nRespiratory viruses primarily infect and replicate within airway epithelial cells . During the replication process, the cells release antiviral factors and cytokines that alter local airway inflammation and airway niche (Busse et al., 2010) . In a healthy airway, the inflammation normally leads to type 1 inflammatory responses consisting of activation of an antiviral state and infiltration of antiviral effector cells. This eventually results in the resolution of the inflammatory response and clearance of the viral infection (Vareille et al., 2011; Braciale et al., 2012) . However, in a chronically inflamed airway, the responses against the virus may be impaired or aberrant, causing sustained inflammation and erroneous infiltration, resulting in the exacerbation of their symptoms (Mallia and Johnston, 2006; Dougherty and Fahy, 2009; Busse et al., 2010; Britto et al., 2017; Linden et al., 2019) . This is usually further compounded by the increased susceptibility of chronic airway inflammatory disease patients toward viral respiratory infections, thereby increasing the frequency of exacerbation as a whole (Dougherty and Fahy, 2009; Busse et al., 2010; Linden et al., 2019) . Furthermore, due to the different replication cycles and response against the myriad of respiratory viruses, each respiratory virus may also contribute to exacerbations via different mechanisms that may alter their severity. Hence, this review will focus on compiling and collating the current known mechanisms of viral-induced exacerbation of chronic airway inflammatory diseases; as well as linking the different viral infection pathogenesis to elucidate other potential ways the infection can exacerbate the disease. The review will serve to provide further understanding of viral induced exacerbation to identify potential pathways and pathogenesis mechanisms that may be targeted as supplementary care for management and prevention of exacerbation. Such an approach may be clinically significant due to the current scarcity of antiviral drugs for the management of viral-induced exacerbations. This will improve the quality of life of patients with chronic airway inflammatory diseases.\\n\\nOnce the link between viral infection and acute exacerbations of chronic airway inflammatory disease was established, there have been many reports on the mechanisms underlying the exacerbation induced by respiratory viral infection. Upon infecting the host, viruses evoke an inflammatory response as a means of counteracting the infection. Generally, infected airway epithelial cells release type I (IFNα/β) and type III (IFNλ) interferons, cytokines and chemokines such as IL-6, IL-8, IL-12, RANTES, macrophage inflammatory protein 1α (MIP-1α) and monocyte chemotactic protein 1 (MCP-1) (Wark and Gibson, 2006; Matsukura et al., 2013) . These, in turn, enable infiltration of innate immune cells and of professional antigen presenting cells (APCs) that will then in turn release specific mediators to facilitate viral targeting and clearance, including type II interferon (IFNγ), IL-2, IL-4, IL-5, IL-9, and IL-12 (Wark and Gibson, 2006; Singh et al., 2010; Braciale et al., 2012) . These factors heighten local inflammation and the infiltration of granulocytes, T-cells and B-cells (Wark and Gibson, 2006; Braciale et al., 2012) . The increased inflammation, in turn, worsens the symptoms of airway diseases.\\n\\nAdditionally, in patients with asthma and patients with CRS with nasal polyp (CRSwNP), viral infections such as RV and RSV promote a Type 2-biased immune response (Becker, 2006; Jackson et al., 2014; Jurak et al., 2018) . This amplifies the basal type 2 inflammation resulting in a greater release of IL-4, IL-5, IL-13, RANTES and eotaxin and a further increase in eosinophilia, a key pathological driver of asthma and CRSwNP (Wark and Gibson, 2006; Singh et al., 2010; Chung et al., 2015; Dunican and Fahy, 2015) . Increased eosinophilia, in turn, worsens the classical symptoms of disease and may further lead to life-threatening conditions due to breathing difficulties. On the other hand, patients with COPD and patients with CRS without nasal polyp (CRSsNP) are more neutrophilic in nature due to the expression of neutrophil chemoattractants such as CXCL9, CXCL10, and CXCL11 (Cukic et al., 2012; Brightling and Greening, 2019) . The pathology of these airway diseases is characterized by airway remodeling due to the presence of remodeling factors such as matrix metalloproteinases (MMPs) released from infiltrating neutrophils (Linden et al., 2019) . Viral infections in such conditions will then cause increase neutrophilic activation; worsening the symptoms and airway remodeling in the airway thereby exacerbating COPD, CRSsNP and even CRSwNP in certain cases (Wang et al., 2009; Tacon et al., 2010; Linden et al., 2019) .\\n\\nAn epithelial-centric alarmin pathway around IL-25, IL-33 and thymic stromal lymphopoietin (TSLP), and their interaction with group 2 innate lymphoid cells (ILC2) has also recently been identified (Nagarkar et al., 2012; Hong et al., 2018; Allinne et al., 2019) . IL-25, IL-33 and TSLP are type 2 inflammatory cytokines expressed by the epithelial cells upon injury to the epithelial barrier (Gabryelska et al., 2019; Roan et al., 2019) . ILC2s are a group of lymphoid cells lacking both B and T cell receptors but play a crucial role in secreting type 2 cytokines to perpetuate type 2 inflammation when activated (Scanlon and McKenzie, 2012; Li and Hendriks, 2013) . In the event of viral infection, cell death and injury to the epithelial barrier will also induce the expression of IL-25, IL-33 and TSLP, with heighten expression in an inflamed airway (Allakhverdi et al., 2007; Goldsmith et al., 2012; Byers et al., 2013; Shaw et al., 2013; Beale et al., 2014; Jackson et al., 2014; Uller and Persson, 2018; Ravanetti et al., 2019) . These 3 cytokines then work in concert to activate ILC2s to further secrete type 2 cytokines IL-4, IL-5, and IL-13 which further aggravate the type 2 inflammation in the airway causing acute exacerbation (Camelo et al., 2017) . In the case of COPD, increased ILC2 activation, which retain the capability of differentiating to ILC1, may also further augment the neutrophilic response and further aggravate the exacerbation (Silver et al., 2016) . Interestingly, these factors are not released to any great extent and do not activate an ILC2 response during viral infection in healthy individuals (Yan et al., 2016; Tan et al., 2018a) ; despite augmenting a type 2 exacerbation in chronically inflamed airways (Jurak et al., 2018) . These classical mechanisms of viral induced acute exacerbations are summarized in Figure 1 .\\n\\nAs integration of the virology, microbiology and immunology of viral infection becomes more interlinked, additional factors and FIGURE 1 | Current understanding of viral induced exacerbation of chronic airway inflammatory diseases. Upon virus infection in the airway, antiviral state will be activated to clear the invading pathogen from the airway. Immune response and injury factors released from the infected epithelium normally would induce a rapid type 1 immunity that facilitates viral clearance. However, in the inflamed airway, the cytokines and chemokines released instead augmented the inflammation present in the chronically inflamed airway, strengthening the neutrophilic infiltration in COPD airway, and eosinophilic infiltration in the asthmatic airway. The effect is also further compounded by the participation of Th1 and ILC1 cells in the COPD airway; and Th2 and ILC2 cells in the asthmatic airway.\\n\\nFrontiers in Cell and Developmental Biology | www.frontiersin.org mechanisms have been implicated in acute exacerbations during and after viral infection (Murray et al., 2006) . Murray et al. (2006) has underlined the synergistic effect of viral infection with other sensitizing agents in causing more severe acute exacerbations in the airway. This is especially true when not all exacerbation events occurred during the viral infection but may also occur well after viral clearance (Kim et al., 2008; Stolz et al., 2019) in particular the late onset of a bacterial infection (Singanayagam et al., 2018 (Singanayagam et al., , 2019a . In addition, viruses do not need to directly infect the lower airway to cause an acute exacerbation, as the nasal epithelium remains the primary site of most infections. Moreover, not all viral infections of the airway will lead to acute exacerbations, suggesting a more complex interplay between the virus and upper airway epithelium which synergize with the local airway environment in line with the \"united airway\" hypothesis (Kurai et al., 2013) . On the other hand, viral infections or their components persist in patients with chronic airway inflammatory disease (Kling et al., 2005; Wood et al., 2011; Ravi et al., 2019) . Hence, their presence may further alter the local environment and contribute to current and future exacerbations. Future studies should be performed using metagenomics in addition to PCR analysis to determine the contribution of the microbiome and mycobiome to viral infections. In this review, we highlight recent data regarding viral interactions with the airway epithelium that could also contribute to, or further aggravate, acute exacerbations of chronic airway inflammatory diseases.\\n\\nPatients with chronic airway inflammatory diseases have impaired or reduced ability of viral clearance (Hammond et al., 2015; McKendry et al., 2016; Akbarshahi et al., 2018; Gill et al., 2018; Wang et al., 2018; Singanayagam et al., 2019b) . Their impairment stems from a type 2-skewed inflammatory response which deprives the airway of important type 1 responsive CD8 cells that are responsible for the complete clearance of virusinfected cells (Becker, 2006; McKendry et al., 2016) . This is especially evident in weak type 1 inflammation-inducing viruses such as RV and RSV (Kling et al., 2005; Wood et al., 2011; Ravi et al., 2019) . Additionally, there are also evidence of reduced type I (IFNβ) and III (IFNλ) interferon production due to type 2-skewed inflammation, which contributes to imperfect clearance of the virus resulting in persistence of viral components, or the live virus in the airway epithelium (Contoli et al., 2006; Hwang et al., 2019; Wark, 2019) . Due to the viral components remaining in the airway, antiviral genes such as type I interferons, inflammasome activating factors and cytokines remained activated resulting in prolong airway inflammation (Wood et al., 2011; Essaidi-Laziosi et al., 2018) . These factors enhance granulocyte infiltration thus prolonging the exacerbation symptoms. Such persistent inflammation may also be found within DNA viruses such as AdV, hCMV and HSV, whose infections generally persist longer (Imperiale and Jiang, 2015) , further contributing to chronic activation of inflammation when they infect the airway (Yang et al., 2008; Morimoto et al., 2009; Imperiale and Jiang, 2015; Lan et al., 2016; Tan et al., 2016; Kowalski et al., 2017) . With that note, human papilloma virus (HPV), a DNA virus highly associated with head and neck cancers and respiratory papillomatosis, is also linked with the chronic inflammation that precedes the malignancies (de Visser et al., 2005; Gillison et al., 2012; Bonomi et al., 2014; Fernandes et al., 2015) . Therefore, the role of HPV infection in causing chronic inflammation in the airway and their association to exacerbations of chronic airway inflammatory diseases, which is scarcely explored, should be investigated in the future. Furthermore, viral persistence which lead to continuous expression of antiviral genes may also lead to the development of steroid resistance, which is seen with RV, RSV, and PIV infection (Chi et al., 2011; Ford et al., 2013; Papi et al., 2013) . The use of steroid to suppress the inflammation may also cause the virus to linger longer in the airway due to the lack of antiviral clearance (Kim et al., 2008; Hammond et al., 2015; Hewitt et al., 2016; McKendry et al., 2016; Singanayagam et al., 2019b) . The concomitant development of steroid resistance together with recurring or prolong viral infection thus added considerable burden to the management of acute exacerbation, which should be the future focus of research to resolve the dual complications arising from viral infection.\\n\\nOn the other end of the spectrum, viruses that induce strong type 1 inflammation and cell death such as IFV (Yan et al., 2016; Guibas et al., 2018) and certain CoV (including the recently emerged COVID-19 virus) (Tao et al., 2013; Yue et al., 2018; Zhu et al., 2020) , may not cause prolonged inflammation due to strong induction of antiviral clearance. These infections, however, cause massive damage and cell death to the epithelial barrier, so much so that areas of the epithelium may be completely absent post infection (Yan et al., 2016; Tan et al., 2019) . Factors such as RANTES and CXCL10, which recruit immune cells to induce apoptosis, are strongly induced from IFV infected epithelium (Ampomah et al., 2018; Tan et al., 2019) . Additionally, necroptotic factors such as RIP3 further compounds the cell deaths in IFV infected epithelium . The massive cell death induced may result in worsening of the acute exacerbation due to the release of their cellular content into the airway, further evoking an inflammatory response in the airway (Guibas et al., 2018) . Moreover, the destruction of the epithelial barrier may cause further contact with other pathogens and allergens in the airway which may then prolong exacerbations or results in new exacerbations. Epithelial destruction may also promote further epithelial remodeling during its regeneration as viral infection induces the expression of remodeling genes such as MMPs and growth factors . Infections that cause massive destruction of the epithelium, such as IFV, usually result in severe acute exacerbations with non-classical symptoms of chronic airway inflammatory diseases. Fortunately, annual vaccines are available to prevent IFV infections (Vasileiou et al., 2017; Zheng et al., 2018) ; and it is recommended that patients with chronic airway inflammatory disease receive their annual influenza vaccination as the best means to prevent severe IFV induced exacerbation.\\n\\nAnother mechanism that viral infections may use to drive acute exacerbations is the induction of vasodilation or tight junction opening factors which may increase the rate of infiltration. Infection with a multitude of respiratory viruses causes disruption of tight junctions with the resulting increased rate of viral infiltration. This also increases the chances of allergens coming into contact with airway immune cells. For example, IFV infection was found to induce oncostatin M (OSM) which causes tight junction opening (Pothoven et al., 2015; Tian et al., 2018) . Similarly, RV and RSV infections usually cause tight junction opening which may also increase the infiltration rate of eosinophils and thus worsening of the classical symptoms of chronic airway inflammatory diseases (Sajjan et al., 2008; Kast et al., 2017; Kim et al., 2018) . In addition, the expression of vasodilating factors and fluid homeostatic factors such as angiopoietin-like 4 (ANGPTL4) and bactericidal/permeabilityincreasing fold-containing family member A1 (BPIFA1) are also associated with viral infections and pneumonia development, which may worsen inflammation in the lower airway Akram et al., 2018) . These factors may serve as targets to prevent viral-induced exacerbations during the management of acute exacerbation of chronic airway inflammatory diseases.\\n\\nAnother recent area of interest is the relationship between asthma and COPD exacerbations and their association with the airway microbiome. The development of chronic airway inflammatory diseases is usually linked to specific bacterial species in the microbiome which may thrive in the inflamed airway environment (Diver et al., 2019) . In the event of a viral infection such as RV infection, the effect induced by the virus may destabilize the equilibrium of the microbiome present (Molyneaux et al., 2013; Kloepfer et al., 2014; Kloepfer et al., 2017; Jubinville et al., 2018; van Rijn et al., 2019) . In addition, viral infection may disrupt biofilm colonies in the upper airway (e.g., Streptococcus pneumoniae) microbiome to be release into the lower airway and worsening the inflammation (Marks et al., 2013; Chao et al., 2014) . Moreover, a viral infection may also alter the nutrient profile in the airway through release of previously inaccessible nutrients that will alter bacterial growth (Siegel et al., 2014; Mallia et al., 2018) . Furthermore, the destabilization is further compounded by impaired bacterial immune response, either from direct viral influences, or use of corticosteroids to suppress the exacerbation symptoms (Singanayagam et al., 2018 (Singanayagam et al., , 2019a Wang et al., 2018; Finney et al., 2019) . All these may gradually lead to more far reaching effect when normal flora is replaced with opportunistic pathogens, altering the inflammatory profiles (Teo et al., 2018) . These changes may in turn result in more severe and frequent acute exacerbations due to the interplay between virus and pathogenic bacteria in exacerbating chronic airway inflammatory diseases (Wark et al., 2013; Singanayagam et al., 2018) . To counteract these effects, microbiome-based therapies are in their infancy but have shown efficacy in the treatments of irritable bowel syndrome by restoring the intestinal microbiome (Bakken et al., 2011) . Further research can be done similarly for the airway microbiome to be able to restore the microbiome following disruption by a viral infection.\\n\\nViral infections can cause the disruption of mucociliary function, an important component of the epithelial barrier. Ciliary proteins FIGURE 2 | Changes in the upper airway epithelium contributing to viral exacerbation in chronic airway inflammatory diseases. The upper airway epithelium is the primary contact/infection site of most respiratory viruses. Therefore, its infection by respiratory viruses may have far reaching consequences in augmenting and synergizing current and future acute exacerbations. The destruction of epithelial barrier, mucociliary function and cell death of the epithelial cells serves to increase contact between environmental triggers with the lower airway and resident immune cells. The opening of tight junction increasing the leakiness further augments the inflammation and exacerbations. In addition, viral infections are usually accompanied with oxidative stress which will further increase the local inflammation in the airway. The dysregulation of inflammation can be further compounded by modulation of miRNAs and epigenetic modification such as DNA methylation and histone modifications that promote dysregulation in inflammation. Finally, the change in the local airway environment and inflammation promotes growth of pathogenic bacteria that may replace the airway microbiome. Furthermore, the inflammatory environment may also disperse upper airway commensals into the lower airway, further causing inflammation and alteration of the lower airway environment, resulting in prolong exacerbation episodes following viral infection. \\n\\nViral specific trait contributing to exacerbation mechanism (with literature evidence) Oxidative stress ROS production (RV, RSV, IFV, HSV)\\n\\nAs RV, RSV, and IFV were the most frequently studied viruses in chronic airway inflammatory diseases, most of the viruses listed are predominantly these viruses. However, the mechanisms stated here may also be applicable to other viruses but may not be listed as they were not implicated in the context of chronic airway inflammatory diseases exacerbation (see text for abbreviations).\\n\\nthat aid in the proper function of the motile cilia in the airways are aberrantly expressed in ciliated airway epithelial cells which are the major target for RV infection (Griggs et al., 2017) . Such form of secondary cilia dyskinesia appears to be present with chronic inflammations in the airway, but the exact mechanisms are still unknown (Peng et al., , 2019 Qiu et al., 2018) . Nevertheless, it was found that in viral infection such as IFV, there can be a change in the metabolism of the cells as well as alteration in the ciliary gene expression, mostly in the form of down-regulation of the genes such as dynein axonemal heavy chain 5 (DNAH5) and multiciliate differentiation And DNA synthesis associated cell cycle protein (MCIDAS) (Tan et al., 2018b . The recently emerged Wuhan CoV was also found to reduce ciliary beating in infected airway epithelial cell model (Zhu et al., 2020) . Furthermore, viral infections such as RSV was shown to directly destroy the cilia of the ciliated cells and almost all respiratory viruses infect the ciliated cells (Jumat et al., 2015; Yan et al., 2016; Tan et al., 2018a) . In addition, mucus overproduction may also disrupt the equilibrium of the mucociliary function following viral infection, resulting in symptoms of acute exacerbation (Zhu et al., 2009) . Hence, the disruption of the ciliary movement during viral infection may cause more foreign material and allergen to enter the airway, aggravating the symptoms of acute exacerbation and making it more difficult to manage. The mechanism of the occurrence of secondary cilia dyskinesia can also therefore be explored as a means to limit the effects of viral induced acute exacerbation.\\n\\nMicroRNAs (miRNAs) are short non-coding RNAs involved in post-transcriptional modulation of biological processes, and implicated in a number of diseases (Tan et al., 2014) . miRNAs are found to be induced by viral infections and may play a role in the modulation of antiviral responses and inflammation (Gutierrez et al., 2016; Deng et al., 2017; Feng et al., 2018) . In the case of chronic airway inflammatory diseases, circulating miRNA changes were found to be linked to exacerbation of the diseases (Wardzynska et al., 2020) . Therefore, it is likely that such miRNA changes originated from the infected epithelium and responding immune cells, which may serve to further dysregulate airway inflammation leading to exacerbations. Both IFV and RSV infections has been shown to increase miR-21 and augmented inflammation in experimental murine asthma models, which is reversed with a combination treatment of anti-miR-21 and corticosteroids (Kim et al., 2017) . IFV infection is also shown to increase miR-125a and b, and miR-132 in COPD epithelium which inhibits A20 and MAVS; and p300 and IRF3, respectively, resulting in increased susceptibility to viral infections (Hsu et al., 2016 (Hsu et al., , 2017 . Conversely, miR-22 was shown to be suppressed in asthmatic epithelium in IFV infection which lead to aberrant epithelial response, contributing to exacerbations (Moheimani et al., 2018) . Other than these direct evidence of miRNA changes in contributing to exacerbations, an increased number of miRNAs and other non-coding RNAs responsible for immune modulation are found to be altered following viral infections (Globinska et al., 2014; Feng et al., 2018; Hasegawa et al., 2018) . Hence non-coding RNAs also presents as targets to modulate viral induced airway changes as a means of managing exacerbation of chronic airway inflammatory diseases. Other than miRNA modulation, other epigenetic modification such as DNA methylation may also play a role in exacerbation of chronic airway inflammatory diseases. Recent epigenetic studies have indicated the association of epigenetic modification and chronic airway inflammatory diseases, and that the nasal methylome was shown to be a sensitive marker for airway inflammatory changes (Cardenas et al., 2019; Gomez, 2019) . At the same time, it was also shown that viral infections such as RV and RSV alters DNA methylation and histone modifications in the airway epithelium which may alter inflammatory responses, driving chronic airway inflammatory diseases and exacerbations (McErlean et al., 2014; Pech et al., 2018; Caixia et al., 2019) . In addition, Spalluto et al. (2017) also showed that antiviral factors such as IFNγ epigenetically modifies the viral resistance of epithelial cells. Hence, this may indicate that infections such as RV and RSV that weakly induce antiviral responses may result in an altered inflammatory state contributing to further viral persistence and exacerbation of chronic airway inflammatory diseases (Spalluto et al., 2017) .\\n\\nFinally, viral infection can result in enhanced production of reactive oxygen species (ROS), oxidative stress and mitochondrial dysfunction in the airway epithelium (Kim et al., 2018; Mishra et al., 2018; Wang et al., 2018) . The airway epithelium of patients with chronic airway inflammatory diseases are usually under a state of constant oxidative stress which sustains the inflammation in the airway (Barnes, 2017; van der Vliet et al., 2018) . Viral infections of the respiratory epithelium by viruses such as IFV, RV, RSV and HSV may trigger the further production of ROS as an antiviral mechanism Aizawa et al., 2018; Wang et al., 2018) . Moreover, infiltrating cells in response to the infection such as neutrophils will also trigger respiratory burst as a means of increasing the ROS in the infected region. The increased ROS and oxidative stress in the local environment may serve as a trigger to promote inflammation thereby aggravating the inflammation in the airway (Tiwari et al., 2002) . A summary of potential exacerbation mechanisms and the associated viruses is shown in Figure 2 and Table 1 .\\n\\nWhile the mechanisms underlying the development and acute exacerbation of chronic airway inflammatory disease is extensively studied for ways to manage and control the disease, a viral infection does more than just causing an acute exacerbation in these patients. A viral-induced acute exacerbation not only induced and worsens the symptoms of the disease, but also may alter the management of the disease or confer resistance toward treatments that worked before. Hence, appreciation of the mechanisms of viral-induced acute exacerbations is of clinical significance to devise strategies to correct viral induce changes that may worsen chronic airway inflammatory disease symptoms. Further studies in natural exacerbations and in viral-challenge models using RNA-sequencing (RNA-seq) or single cell RNA-seq on a range of time-points may provide important information regarding viral pathogenesis and changes induced within the airway of chronic airway inflammatory disease patients to identify novel targets and pathway for improved management of the disease. Subsequent analysis of functions may use epithelial cell models such as the air-liquid interface, in vitro airway epithelial model that has been adapted to studying viral infection and the changes it induced in the airway (Yan et al., 2016; Boda et al., 2018; Tan et al., 2018a) . Animal-based diseased models have also been developed to identify systemic mechanisms of acute exacerbation (Shin, 2016; Gubernatorova et al., 2019; Tanner and Single, 2019) . Furthermore, the humanized mouse model that possess human immune cells may also serves to unravel the immune profile of a viral infection in healthy and diseased condition (Ito et al., 2019; Li and Di Santo, 2019) . For milder viruses, controlled in vivo human infections can be performed for the best mode of verification of the associations of the virus with the proposed mechanism of viral induced acute exacerbations . With the advent of suitable diseased models, the verification of the mechanisms will then provide the necessary continuation of improving the management of viral induced acute exacerbations.\\n\\nIn conclusion, viral-induced acute exacerbation of chronic airway inflammatory disease is a significant health and economic burden that needs to be addressed urgently. In view of the scarcity of antiviral-based preventative measures available for only a few viruses and vaccines that are only available for IFV infections, more alternative measures should be explored to improve the management of the disease. Alternative measures targeting novel viral-induced acute exacerbation mechanisms, especially in the upper airway, can serve as supplementary treatments of the currently available management strategies to augment their efficacy. New models including primary human bronchial or nasal epithelial cell cultures, organoids or precision cut lung slices from patients with airways disease rather than healthy subjects can be utilized to define exacerbation mechanisms. These mechanisms can then be validated in small clinical trials in patients with asthma or COPD. Having multiple means of treatment may also reduce the problems that arise from resistance development toward a specific treatment.'"
            ],
            "application/vnd.google.colaboratory.intrinsic+json": {
              "type": "string"
            }
          },
          "metadata": {},
          "execution_count": 48
        }
      ]
    },
    {
      "cell_type": "code",
      "source": [
        "val_answers[0]"
      ],
      "metadata": {
        "colab": {
          "base_uri": "https://localhost:8080/"
        },
        "id": "71ORY3ijWd0F",
        "outputId": "6f2c6a2e-e812-4b22-f9b6-0bf1fa892eba"
      },
      "execution_count": null,
      "outputs": [
        {
          "output_type": "execute_result",
          "data": {
            "text/plain": [
              "{'answer_end': 17718,\n",
              " 'answer_start': 17454,\n",
              " 'text': 'there are also evidence of reduced type I (IFNβ) and III (IFNλ) interferon production due to type 2-skewed inflammation, which contributes to imperfect clearance of the virus resulting in persistence of viral components, or the live virus in the airway epithelium '}"
            ]
          },
          "metadata": {},
          "execution_count": 49
        }
      ]
    },
    {
      "cell_type": "code",
      "source": [
        "# ans_text = []\n",
        "# ans_start = []\n",
        "# ans_end = []\n",
        "# for i in range(len(val_answers)):\n",
        "#   ans_text.append(val_answers[i][\"text\"])\n",
        "#   ans_start.append(val_answers[i][\"answer_start\"])\n",
        "#   ans_end.append(val_answers[i][\"answer_end\"])\n",
        "\n",
        "# print(ans_text[:2])\n",
        "# print(ans_start[:2])\n",
        "# print(ans_end[:2])\n",
        "\n",
        "# ans_dict = {\n",
        "#   \"text\": ans_text,\n",
        "#   \"answer_start\": ans_start,\n",
        "#   \"answer_end\": ans_end\n",
        "# }\n",
        "\n",
        "# print(\"Train Dict\")\n",
        "# print(ans_dict.keys())\n",
        "# print(ans_dict['text'][:2])\n",
        "# print(ans_dict['answer_start'][:2])\n",
        "# print(ans_dict['answer_end'][:2])"
      ],
      "metadata": {
        "id": "waN0L960ePIu"
      },
      "execution_count": null,
      "outputs": []
    },
    {
      "cell_type": "code",
      "source": [
        "# answers_maps_key_list = list(ans_dict.keys())\n",
        "# answers_maps_val_list = list(ans_dict.values())\n",
        "# print(answers_maps_key_list)\n",
        "# print(answers_maps_val_list[1][2])\n",
        "\n",
        "# position = answers_maps_val_list[1].index(18044)"
      ],
      "metadata": {
        "id": "6MyYZ-5Ad3-o"
      },
      "execution_count": null,
      "outputs": []
    },
    {
      "cell_type": "code",
      "source": [
        "tokenizer = RobertaTokenizerFast.from_pretrained('roberta-base')\n",
        "\n",
        "question = val_questions[:2]\n",
        "context = val_contexts[:2]\n",
        "\n",
        "test_tokenized = tokenizer(question, context, truncation=True, padding=True)\n",
        "print(test_tokenized.keys())\n",
        "# tokens = tokenizer.convert_ids_to_tokens(test_tokenized) #input tokens\n",
        "print(val_tokenized[0])\n",
        "add_token_positions(test_tokenized, val_answers[:2])\n",
        "print(test_tokenized.keys())\n",
        "test_data = Custom_Dataset(test_tokenized)\n",
        "test_dataloader = DataLoader(test_data, batch_size=1, shuffle=True)"
      ],
      "metadata": {
        "colab": {
          "base_uri": "https://localhost:8080/"
        },
        "id": "ygSbJrgqcybX",
        "outputId": "80c9ae0e-29c6-4c16-c320-8b35bf269ef7"
      },
      "execution_count": null,
      "outputs": [
        {
          "output_type": "stream",
          "name": "stdout",
          "text": [
            "dict_keys(['input_ids', 'attention_mask'])\n",
            "Encoding(num_tokens=512, attributes=[ids, type_ids, tokens, offsets, attention_mask, special_tokens_mask, overflowing])\n",
            "dict_keys(['input_ids', 'attention_mask', 'start_positions', 'end_positions'])\n"
          ]
        }
      ]
    },
    {
      "cell_type": "code",
      "source": [
        "print(test_tokenized.input_ids[0][:2])\n",
        "print(len(test_tokenized.input_ids[0]))"
      ],
      "metadata": {
        "colab": {
          "base_uri": "https://localhost:8080/"
        },
        "id": "i7PGCAQfiWg5",
        "outputId": "3fe121f5-e4d7-489b-9bdf-e85e6d29b1a3"
      },
      "execution_count": null,
      "outputs": [
        {
          "output_type": "stream",
          "name": "stdout",
          "text": [
            "[0, 2264]\n",
            "512\n"
          ]
        }
      ]
    },
    {
      "cell_type": "code",
      "source": [
        "model.load_state_dict(torch.load('/content/drive/MyDrive/NLU/Roberta_QA.pt'))\n",
        "model = model.to(device)\n",
        "\n",
        "# run loop 3 times\n",
        "# for epoch in range(1):\n",
        "with torch.no_grad():\n",
        "  # loop over each batch \n",
        "  i = 0\n",
        "  for batch in test_dataloader:\n",
        "    # grab the batch attributes and attach them to the GPU device\n",
        "    input_ids, attention_mask, start_positions, end_positions = batch['input_ids'].to(device), batch['attention_mask'].to(device), batch['start_positions'].to(device), batch['end_positions'].to(device)\n",
        "    outputs = model(input_ids, attention_mask = attention_mask)\n",
        "    loss = outputs[0]\n",
        "    start_probs = outputs['start_logits']\n",
        "    end_probs = outputs['end_logits']\n",
        "    \n",
        "    start_pred = torch.argmax(start_probs, dim=1)\n",
        "    end_pred = torch.argmax(end_probs, dim=1)\n",
        "    # start_pred = torch.argmin(start_probs, dim=1)\n",
        "    # end_pred = torch.argmin(end_probs, dim=1)\n",
        "    # print(start_pred, end_pred)\n",
        "    start_pred = start_pred.detach().to(\"cpu\").numpy()\n",
        "    end_pred = end_pred.detach().to(\"cpu\").numpy()\n",
        "\n",
        "    # print(start_pred[0], end_pred[0])\n",
        "\n",
        "    predict_answer_tokens = val_tokenized.input_ids[0][end_pred[0] + 1 : start_pred[0]]\n",
        "    # print(val_tokenized.input_ids[0])\n",
        "    # print(val_tokenized.input_ids[0][end_pred[0] +1: start_pred[0]])\n",
        "\n",
        "    predicted_answer = tokenizer.decode(predict_answer_tokens)\n",
        "    print(\"Question \",i+1,\":\\n\",question[i],'\\n')\n",
        "    print(\"Predicted Answer \",i+1,\":\\n\",predicted_answer,'\\n')\n",
        "    i += 1"
      ],
      "metadata": {
        "colab": {
          "base_uri": "https://localhost:8080/"
        },
        "id": "aWGkwhdHWnNg",
        "outputId": "66c5db0e-4bb7-4f63-fcf0-724c89c6e04d"
      },
      "execution_count": null,
      "outputs": [
        {
          "output_type": "stream",
          "name": "stdout",
          "text": [
            "Question  1 :\n",
            " What are other  effects? \n",
            "\n",
            "Predicted Answer  1 :\n",
            " ions in Exacerbation of Chronic Airway Inflammatory Diseases: Novel Mechanisms and Insights From the Upper Airway Epithelium\n",
            "\n",
            "https://www.ncbi.nlm.nih.gov/pmc/articles/PMC7052386/\n",
            "\n",
            "SHA: 45a566c71056ba4faab425b4f7e9edee6320e4a4\n",
            "\n",
            "Authors: Tan, Kai Sen; Lim, Rachel Liyu; Liu, Jing; Ong, Hsiao Hui; Tan, Vivian Jiayi; Lim, Hui Fang; Chung, Kian Fan; Adcock, Ian M.; Chow, Vincent T.; Wang, De Yun\n",
            "Date: 2020-02-25\n",
            "DOI: 10.3389/fcell.2020.00099\n",
            "License: cc-by\n",
            "\n",
            "Abstract: Respiratory virus infection is one of the major sources of exacerbation of chronic airway inflammatory diseases. These exacerbations are associated with high morbidity and even mortality worldwide. The current understanding on viral-induced exacerbations is that viral infection increases airway inflammation which aggravates disease symptoms. Recent advances in in vitro air-liquid interface 3D cultures, organoid cultures and the use of novel human and animal challenge models have evoked new understandings as to the mechanisms of viral exacerbations. In this review, we will focus on recent novel findings that elucidate how respiratory viral infections alter the epithelial barrier in the airways, the upper airway microbial environment, epigenetic modifications including miRNA modulation, and other changes in immune responses throughout the upper and lower airways. First, we reviewed the prevalence of different respiratory viral infections in causing exacerbations in chronic airway inflammatory diseases. Subsequently we also summarized how recent models have expanded our appreciation of the mechanisms of viral-induced exacerbations. Further we highlighted the importance of the vir \n",
            "\n",
            "Question  2 :\n",
            " What is the  effect of viral components remaining in the airway? \n",
            "\n",
            "Predicted Answer  2 :\n",
            " </s></s>Respiratory Viral Infections in Exacerbation of Chronic Airway Inflammatory Diseases: Novel Mechanisms and Insights From the Upper Airway Epithelium\n",
            "\n",
            "https://www.ncbi.nlm.nih.gov/pmc/articles/PMC7052386/\n",
            "\n",
            "SHA: 45a566c71056ba4faab425b4f7e9edee6320e4a4\n",
            "\n",
            "Authors: Tan, Kai Sen; Lim, Rachel Liyu; Liu, Jing; Ong, Hsiao Hui; Tan, Vivian Jiayi; Lim, Hui Fang; Chung, Kian Fan; Adcock, Ian M.; Chow, Vincent T.; Wang, De Yun\n",
            "Date: 2020-02-25\n",
            "DOI: 10.3389/fcell.2020.00099\n",
            "License: cc-by\n",
            "\n",
            "Abstract: Respiratory virus infection is one of the major sources of exacerbation of chronic airway inflammatory diseases. These exacerbations are associated with high morbidity and even mortality worldwide. The current understanding on viral-induced exacerbations is that viral infection increases airway inflammation which aggravates disease symptoms. Recent advances in in vitro air-liquid interface 3D cultures, organoid cultures and the use of novel human and animal challenge models have evoked new understandings as to the mechanisms of viral exacerbations. In this review, we will focus on recent novel findings that elucidate how respiratory viral infections alter the epithelial barrier in the airways, the upper airway microbial environment, epigenetic modifications including miRNA modulation, and other changes in immune responses throughout the upper and lower airways. First, we reviewed the prevalence of different respiratory viral infections in causing exacerbations in chronic airway inflammatory diseases. Subsequently we also summarized how recent models have expanded our appreciation of the mechanisms of viral-induced exacerbations. Further we highlighted the importance of the virome within the airway microbiome environment and its impact on \n",
            "\n"
          ]
        }
      ]
    },
    {
      "cell_type": "code",
      "source": [
        "# tokenizer = RobertaTokenizerFast.from_pretrained('roberta-base')\n",
        "\n",
        "# question = val_questions[:2]\n",
        "# context = val_contexts[:2]\n",
        "\n",
        "# test_tokenized = tokenizer(question, context, truncation=True, padding=True)\n",
        "# print(test_tokenized.keys())\n",
        "# # tokens = tokenizer.convert_ids_to_tokens(test_tokenized) #input tokens\n",
        "# print(val_tokenized[0])\n",
        "# add_token_positions(test_tokenized, val_answers[:2])\n",
        "# print(test_tokenized.keys())\n",
        "# test_data = Custom_Dataset(test_tokenized)\n",
        "# test_dataloader = DataLoader(test_data, batch_size=1, shuffle=True)"
      ],
      "metadata": {
        "id": "qr-YRHsB8_YC"
      },
      "execution_count": null,
      "outputs": []
    },
    {
      "cell_type": "code",
      "source": [
        "# model.load_state_dict(torch.load('/content/drive/MyDrive/NLU/Roberta_QA.pt'))\n",
        "# model = model.to(device)\n",
        "\n",
        "# # run loop 3 times\n",
        "# # for epoch in range(1):\n",
        "# with torch.no_grad():\n",
        "#   # loop over each batch \n",
        "#   i = 0\n",
        "#   for batch in test_dataloader:\n",
        "#     # grab the batch attributes and attach them to the GPU device\n",
        "#     input_ids, attention_mask= batch['input_ids'].to(device), batch['attention_mask'].to(device)\n",
        "#     outputs = model(input_ids, attention_mask = attention_mask)\n",
        "#     loss = outputs[0]\n",
        "#     start_probs = outputs['start_logits']\n",
        "#     end_probs = outputs['end_logits']\n",
        "#     print(torch.argmin(start_probs, dim=1), torch.argmin(end_probs, dim=1))\n",
        "#     start_pred = torch.argmax(start_probs, dim=1)\n",
        "#     end_pred = torch.argmax(end_probs, dim=1)\n",
        "#     print(start_pred, end_pred)\n",
        "#     ans_tokens = input_ids[torch.argmax(start_pred) : torch.argmax(end_pred)+1]\n",
        "#     # print(ans_tokens)\n",
        "#     answer_tokens = tokenizer.convert_ids_to_tokens(ans_tokens , skip_special_tokens=True)\n",
        "#     # print(start_pred[0], end_pred[0])\n",
        "#     # print(val_tokenized.input_ids[0])\n",
        "#     # print(val_tokenized.input_ids[0][end_pred[0] +1: start_pred[0]])\n",
        "\n",
        "#     predicted_answer = tokenizer.convert_tokens_to_string(answer_tokens)\n",
        "#     print(\"Question \",i+1,\":\\n\",question[i],'\\n')\n",
        "#     print(\"Predicted Answer \",i+1,\":\\n\",predicted_answer,'\\n')\n",
        "#     i += 1"
      ],
      "metadata": {
        "id": "V6b0MKBM8RXA"
      },
      "execution_count": null,
      "outputs": []
    },
    {
      "cell_type": "code",
      "source": [
        "# tokenizer = RobertaTokenizerFast.from_pretrained('roberta-base')\n",
        "\n",
        "# question = val_questions[0]\n",
        "# context = val_contexts[0]\n",
        "\n",
        "# encoding = tokenizer.encode_plus(question, context)\n",
        "# input_ids, attention_mask = encoding[\"input_ids\"], encoding[\"attention_mask\"]"
      ],
      "metadata": {
        "id": "fR2R_AOB7phO"
      },
      "execution_count": null,
      "outputs": []
    }
  ]
}