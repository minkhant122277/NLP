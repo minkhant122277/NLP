{
 "cells": [
  {
   "cell_type": "code",
   "execution_count": 1,
   "id": "1236631a",
   "metadata": {},
   "outputs": [],
   "source": [
    "from transformers import pipeline\n",
    "from transformers import AutoTokenizer, AutoModelForQuestionAnswering\n",
    "import torch\n",
    "import matplotlib.pyplot as plt"
   ]
  },
  {
   "cell_type": "code",
   "execution_count": 2,
   "id": "a17d109e",
   "metadata": {},
   "outputs": [
    {
     "data": {
      "application/vnd.jupyter.widget-view+json": {
       "model_id": "0d15d8b8d6454b79b63b04336ad440ce",
       "version_major": 2,
       "version_minor": 0
      },
      "text/plain": [
       "Downloading:   0%|          | 0.00/28.0 [00:00<?, ?B/s]"
      ]
     },
     "metadata": {},
     "output_type": "display_data"
    },
    {
     "data": {
      "application/vnd.jupyter.widget-view+json": {
       "model_id": "85bc3fc1c8fa40a197b834ff4bdf70a9",
       "version_major": 2,
       "version_minor": 0
      },
      "text/plain": [
       "Downloading:   0%|          | 0.00/443 [00:00<?, ?B/s]"
      ]
     },
     "metadata": {},
     "output_type": "display_data"
    },
    {
     "data": {
      "application/vnd.jupyter.widget-view+json": {
       "model_id": "76af6ef52032447d86c90816271da657",
       "version_major": 2,
       "version_minor": 0
      },
      "text/plain": [
       "Downloading:   0%|          | 0.00/226k [00:00<?, ?B/s]"
      ]
     },
     "metadata": {},
     "output_type": "display_data"
    },
    {
     "data": {
      "application/vnd.jupyter.widget-view+json": {
       "model_id": "bc216298c95c42a1bc1024a2f01231d7",
       "version_major": 2,
       "version_minor": 0
      },
      "text/plain": [
       "Downloading:   0%|          | 0.00/455k [00:00<?, ?B/s]"
      ]
     },
     "metadata": {},
     "output_type": "display_data"
    }
   ],
   "source": [
    "tokenizer = AutoTokenizer.from_pretrained(\"bert-large-uncased-whole-word-masking-finetuned-squad\")"
   ]
  },
  {
   "cell_type": "code",
   "execution_count": 3,
   "id": "f6a435a7",
   "metadata": {},
   "outputs": [
    {
     "data": {
      "application/vnd.jupyter.widget-view+json": {
       "model_id": "699331f7b88844e4b2e2b621347c9255",
       "version_major": 2,
       "version_minor": 0
      },
      "text/plain": [
       "Downloading:   0%|          | 0.00/1.25G [00:00<?, ?B/s]"
      ]
     },
     "metadata": {},
     "output_type": "display_data"
    }
   ],
   "source": [
    "model = AutoModelForQuestionAnswering.from_pretrained(\"bert-large-uncased-whole-word-masking-finetuned-squad\")"
   ]
  },
  {
   "cell_type": "code",
   "execution_count": 4,
   "id": "dde0547f",
   "metadata": {},
   "outputs": [
    {
     "data": {
      "text/plain": [
       "BertConfig {\n",
       "  \"_name_or_path\": \"bert-large-uncased-whole-word-masking-finetuned-squad\",\n",
       "  \"architectures\": [\n",
       "    \"BertForQuestionAnswering\"\n",
       "  ],\n",
       "  \"attention_probs_dropout_prob\": 0.1,\n",
       "  \"classifier_dropout\": null,\n",
       "  \"hidden_act\": \"gelu\",\n",
       "  \"hidden_dropout_prob\": 0.1,\n",
       "  \"hidden_size\": 1024,\n",
       "  \"initializer_range\": 0.02,\n",
       "  \"intermediate_size\": 4096,\n",
       "  \"layer_norm_eps\": 1e-12,\n",
       "  \"max_position_embeddings\": 512,\n",
       "  \"model_type\": \"bert\",\n",
       "  \"num_attention_heads\": 16,\n",
       "  \"num_hidden_layers\": 24,\n",
       "  \"pad_token_id\": 0,\n",
       "  \"position_embedding_type\": \"absolute\",\n",
       "  \"transformers_version\": \"4.16.2\",\n",
       "  \"type_vocab_size\": 2,\n",
       "  \"use_cache\": true,\n",
       "  \"vocab_size\": 30522\n",
       "}"
      ]
     },
     "execution_count": 4,
     "metadata": {},
     "output_type": "execute_result"
    }
   ],
   "source": [
    "model.base_model.config"
   ]
  },
  {
   "cell_type": "code",
   "execution_count": 5,
   "id": "98573069",
   "metadata": {},
   "outputs": [
    {
     "name": "stdout",
     "output_type": "stream",
     "text": [
      "Total number of params 334092288\n",
      "Total number of trainable params 334092288\n"
     ]
    }
   ],
   "source": [
    "pytorch_total_params = sum(p.numel() for p in model.base_model.parameters() if p.requires_grad)    \n",
    "pytorch_trainable_params = sum(p.numel() for p in model.base_model.parameters() )    \n",
    "print(\"Total number of params\", pytorch_total_params)\n",
    "print(\"Total number of trainable params\", pytorch_trainable_params)"
   ]
  },
  {
   "cell_type": "code",
   "execution_count": 6,
   "id": "52a0fb7d",
   "metadata": {},
   "outputs": [],
   "source": [
    "text = r\"\"\"Japan is the eleventh-most populous country in the world, as well as one of the most densely populated and urbanized.\n",
    " About three-fourths of the country's terrain is mountainous, concentrating its population of 125.57 million on narrow coastal plains. \n",
    " Japan is divided into 47 administrative prefectures and eight traditional regions.\n",
    " Osaka has a big population of 16 million. \n",
    " The Greater Tokyo Area is the most populous metropolitan area in the world, with more than 37.4 million residents. \n",
    "\"\"\""
   ]
  },
  {
   "cell_type": "code",
   "execution_count": 7,
   "id": "816be1b4",
   "metadata": {},
   "outputs": [],
   "source": [
    "import numpy as np\n",
    "def get_top_answers(possible_starts,possible_ends,input_ids):\n",
    "    answers = []\n",
    "    for start,end in zip(possible_starts,possible_ends):\n",
    "    #+1 for end\n",
    "        answer = tokenizer.convert_tokens_to_string(tokenizer.convert_ids_to_tokens(input_ids[start:end+1]))\n",
    "        answers.append( answer )\n",
    "    return answers  \n",
    "\n",
    "def answer_question(question,context,topN):\n",
    "\n",
    "    inputs = tokenizer.encode_plus(question, context, add_special_tokens=True, return_tensors=\"pt\")\n",
    "    \n",
    "    input_ids = inputs[\"input_ids\"].tolist()[0]\n",
    "\n",
    "    text_tokens = tokenizer.convert_ids_to_tokens(input_ids)\n",
    "    model_out = model(**inputs)\n",
    "     \n",
    "    answer_start_scores = model_out[\"start_logits\"]\n",
    "    answer_end_scores = model_out[\"end_logits\"]\n",
    "\n",
    "    possible_starts = np.argsort(answer_start_scores.cpu().detach().numpy()).flatten()[::-1][:topN]\n",
    "    possible_ends = np.argsort(answer_end_scores.cpu().detach().numpy()).flatten()[::-1][:topN]\n",
    "    \n",
    "    #get best answer\n",
    "    answer_start = torch.argmax(answer_start_scores)  \n",
    "    answer_end = torch.argmax(answer_end_scores) + 1  # Get the most likely end of answer with the argmax of the score\n",
    "\n",
    "    answer = tokenizer.convert_tokens_to_string(tokenizer.convert_ids_to_tokens(input_ids[answer_start:answer_end]))\n",
    "\n",
    "    answers = get_top_answers(possible_starts,possible_ends,input_ids )  #to extract only top related answers\n",
    "\n",
    "    return { \"answer\":answer,\"answer_start\":answer_start,\"answer_end\":answer_end,\"input_ids\":input_ids,\n",
    "            \"answer_start_scores\":answer_start_scores,\"answer_end_scores\":answer_end_scores,\"inputs\":inputs,\"answers\":answers,\n",
    "            \"possible_starts\":possible_starts,\"possible_ends\":possible_ends}"
   ]
  },
  {
   "cell_type": "code",
   "execution_count": 8,
   "id": "4b70f4c6",
   "metadata": {},
   "outputs": [],
   "source": [
    "questions = [\n",
    "    \"How many states in Japan?\",\n",
    "    \"What is the population of Japan?\",\n",
    "    \"Which city is most crowded in the world?\",\n",
    "    \"What is the city with most population?\",\n",
    "    \"What is the topic here?\",\n",
    "    \"What are we talking about?\",\n",
    "    \"What is the main idea here?\"\n",
    "]"
   ]
  },
  {
   "cell_type": "code",
   "execution_count": 9,
   "id": "e80fec7d",
   "metadata": {},
   "outputs": [
    {
     "name": "stdout",
     "output_type": "stream",
     "text": [
      "Question: How many states in Japan?\n",
      "Answers:\n",
      "1  )  47\n",
      "2  )  japan is divided into 47 administrative prefectures and eight traditional regions\n",
      "3  )  eleventh - most populous country in the world, as well as one of the most densely populated and urbanized. about three - fourths of the country's terrain is mountainous, concentrating its population of 125. 57 million on narrow coastal plains. japan is divided into 47 administrative prefectures\n",
      "4  )  eight traditional regions.\n",
      "5  )  divided into 47 administrative prefectures and eight\n",
      "Question: What is the population of Japan?\n",
      "Answers:\n",
      "1  )  125. 57 million\n",
      "2  )  japan is the eleventh - most populous country in the world, as well as one of the most densely populated and urbanized. about three - fourths of the country's terrain is mountainous, concentrating its population of 125. 57\n",
      "3  )  population of 125. 57 million on narrow coastal plains\n",
      "5  )  eleventh - most populous country in the world, as well as one of the most densely populated and urbanized. about three - fourths of the country's terrain is mountainous, concentrating its population of 125\n",
      "Question: Which city is most crowded in the world?\n",
      "Answers:\n",
      "1  )  japan\n",
      "2  )  tokyo\n",
      "3  )  osaka\n",
      "5  )  the greater tokyo area is the most populous metropolitan area in the world, with more than 37. 4 million residents.\n",
      "Question: What is the city with most population?\n",
      "Answers:\n",
      "1  )  osaka\n",
      "3  )  japan is the eleventh - most populous country in the world, as well as one of the most densely populated and urbanized. about three - fourths of the country's terrain is mountainous, concentrating its population of 125. 57 million on narrow coastal plains. japan is divided into 47 administrative prefectures and eight traditional regions. osaka has a big population of 16 million\n",
      "4  )  16 million. the greater tokyo\n",
      "Question: What is the topic here?\n",
      "Answers:\n",
      "1  )  japan is the eleventh - most populous country in the world, as well as one of the most densely populated and urbanized\n",
      "2  )  densely populated and urbanized. about three - fourths of the country's terrain is mountainous\n",
      "3  )  most densely populated and urbanized. about three - fourths of the country's terrain is mountainous, concentrating its population of 125. 57 million on narrow coastal plains\n",
      "5  )  about three - fourths of the country's terrain is mountainous, concentrating its population of 125. 57 million on narrow coastal plains.\n",
      "Question: What are we talking about?\n",
      "Answers:\n",
      "1  )  japan is the eleventh - most populous country in the world\n",
      "4  )  one of the most densely populated and urbanized. about three - fourths of the country's terrain is mountainous, concentrating its population of 125. 57 million on narrow coastal plains.\n",
      "5  )  about three - fourths of the country's terrain is mountainous, concentrating its population of 125. 57 million on narrow coastal plains\n",
      "Question: What is the main idea here?\n",
      "Answers:\n",
      "1  )  narrow coastal plains\n",
      "2  )  about three - fourths of the country's terrain is mountainous\n",
      "3  )  mountainous, concentrating its population of 125. 57 million on narrow coastal plains.\n",
      "4  )  densely populated and urbanized\n"
     ]
    }
   ],
   "source": [
    "for q in questions:\n",
    "    answer_map = answer_question(q,text,5)    \n",
    "    print(\"Question:\",q)\n",
    "    print(\"Answers:\")\n",
    "    [print((index+1),\" ) \",ans) for index,ans in  enumerate(answer_map[\"answers\"]) if len(ans) > 0 ]"
   ]
  },
  {
   "cell_type": "code",
   "execution_count": 10,
   "id": "2aa8322f",
   "metadata": {},
   "outputs": [],
   "source": [
    "answer_map = answer_question(\"Where is most populous in the world?\",text,3)"
   ]
  },
  {
   "cell_type": "code",
   "execution_count": 11,
   "id": "8fa32e00",
   "metadata": {},
   "outputs": [
    {
     "name": "stdout",
     "output_type": "stream",
     "text": [
      "input_ids: tensor([[  101,  2073,  2003,  2087, 20151,  1999,  1996,  2088,  1029,   102,\n",
      "          2900,  2003,  1996, 11911,  1011,  2087, 20151,  2406,  1999,  1996,\n",
      "          2088,  1010,  2004,  2092,  2004,  2028,  1997,  1996,  2087, 19441,\n",
      "         10357,  1998,  3923,  3550,  1012,  2055,  2093,  1011,  2959,  2015,\n",
      "          1997,  1996,  2406,  1005,  1055,  9291,  2003, 14897,  1010, 16966,\n",
      "          2049,  2313,  1997,  8732,  1012,  5401,  2454,  2006,  4867,  5780,\n",
      "          8575,  1012,  2900,  2003,  4055,  2046,  4700,  3831,  7498,  2015,\n",
      "          1998,  2809,  3151,  4655,  1012, 13000,  2038,  1037,  2502,  2313,\n",
      "          1997,  2385,  2454,  1012,  1996,  3618,  5522,  2181,  2003,  1996,\n",
      "          2087, 20151,  4956,  2181,  1999,  1996,  2088,  1010,  2007,  2062,\n",
      "          2084,  4261,  1012,  1018,  2454,  3901,  1012,   102]])\n",
      "token_type_ids: tensor([[0, 0, 0, 0, 0, 0, 0, 0, 0, 0, 1, 1, 1, 1, 1, 1, 1, 1, 1, 1, 1, 1, 1, 1,\n",
      "         1, 1, 1, 1, 1, 1, 1, 1, 1, 1, 1, 1, 1, 1, 1, 1, 1, 1, 1, 1, 1, 1, 1, 1,\n",
      "         1, 1, 1, 1, 1, 1, 1, 1, 1, 1, 1, 1, 1, 1, 1, 1, 1, 1, 1, 1, 1, 1, 1, 1,\n",
      "         1, 1, 1, 1, 1, 1, 1, 1, 1, 1, 1, 1, 1, 1, 1, 1, 1, 1, 1, 1, 1, 1, 1, 1,\n",
      "         1, 1, 1, 1, 1, 1, 1, 1, 1, 1, 1, 1]])\n",
      "attention_mask: tensor([[1, 1, 1, 1, 1, 1, 1, 1, 1, 1, 1, 1, 1, 1, 1, 1, 1, 1, 1, 1, 1, 1, 1, 1,\n",
      "         1, 1, 1, 1, 1, 1, 1, 1, 1, 1, 1, 1, 1, 1, 1, 1, 1, 1, 1, 1, 1, 1, 1, 1,\n",
      "         1, 1, 1, 1, 1, 1, 1, 1, 1, 1, 1, 1, 1, 1, 1, 1, 1, 1, 1, 1, 1, 1, 1, 1,\n",
      "         1, 1, 1, 1, 1, 1, 1, 1, 1, 1, 1, 1, 1, 1, 1, 1, 1, 1, 1, 1, 1, 1, 1, 1,\n",
      "         1, 1, 1, 1, 1, 1, 1, 1, 1, 1, 1, 1]])\n"
     ]
    }
   ],
   "source": [
    "print(\"input_ids:\",answer_map[\"inputs\"][\"input_ids\"] )\n",
    "print(\"token_type_ids:\",answer_map[\"inputs\"][\"token_type_ids\"] )\n",
    "print(\"attention_mask:\",answer_map[\"inputs\"][\"attention_mask\"] )\n",
    "#answer_map[\"inputs\"]"
   ]
  },
  {
   "cell_type": "code",
   "execution_count": 12,
   "id": "a4a67a32",
   "metadata": {},
   "outputs": [
    {
     "name": "stdout",
     "output_type": "stream",
     "text": [
      "108\n"
     ]
    },
    {
     "data": {
      "text/plain": [
       "\"[CLS] where is most populous in the world? [SEP] japan is the eleventh - most populous country in the world, as well as one of the most densely populated and urbanized. about three - fourths of the country's terrain is mountainous, concentrating its population of 125. 57 million on narrow coastal plains. japan is divided into 47 administrative prefectures and eight traditional regions. osaka has a big population of 16 million. the greater tokyo area is the most populous metropolitan area in the world, with more than 37. 4 million residents. [SEP]\""
      ]
     },
     "execution_count": 12,
     "metadata": {},
     "output_type": "execute_result"
    }
   ],
   "source": [
    "print( len(answer_map[\"input_ids\"] ))\n",
    "tokenizer.decode( answer_map[\"input_ids\"] ) "
   ]
  },
  {
   "cell_type": "code",
   "execution_count": 13,
   "id": "7f90bc2d",
   "metadata": {},
   "outputs": [],
   "source": [
    "def plot_possible_answer(answer_map,expected_start,expected_end):\n",
    "    start_scores = answer_map[\"answer_start_scores\"]\n",
    "    end_scores = answer_map[\"answer_end_scores\"]\n",
    "    tokens = tokenizer.decode( answer_map[\"input_ids\"] ).split(\" \") \n",
    "    print(\"tokens\",len(tokens),\"---\",len(answer_map[\"input_ids\"]))\n",
    "    tokens_ind = [ tokenizer.decode(t) for t in answer_map[\"input_ids\"] ]\n",
    "    print(\"tokens_ind\",len(tokens_ind))\n",
    "    fig,axes = plt.subplots(2,1)\n",
    "    y_start = start_scores.detach().numpy().flatten()\n",
    "    x_start = [i for i in range(len(y_start))]\n",
    "\n",
    "    y_end = end_scores.detach().numpy().flatten()\n",
    "    x_end = [i for i in range(len(y_end))]\n",
    "\n",
    "    axes[0].bar(tokens_ind,y_start)\n",
    "    axes[0].set_title(\"start scores( \"+ str( len( y_start ) ) +\")\" )\n",
    "    axes[0].figure.set_size_inches(20, 5)\n",
    "    #axes[0].xaxis.set_labels( tokens_ind )\n",
    "    axes[0].xaxis.set_tick_params(rotation=90)\n",
    "    axes[0].axvline(expected_start,color=\"yellow\")\n",
    "\n",
    "    axes[1].bar(tokens_ind,y_end, color=\"orange\")\n",
    "    axes[1].set_title(\"end scores( \"+ str( len( y_end ) ) +\")\" )\n",
    "    axes[1].axvline(expected_end,color=\"red\")\n",
    "    axes[1].xaxis.set_tick_params(rotation=90)\n",
    "\n",
    "    axes[0].autoscale(tight=True)\n",
    "    axes[1].autoscale(tight=True)\n",
    "    fig.tight_layout()"
   ]
  },
  {
   "cell_type": "code",
   "execution_count": 14,
   "id": "0b80cfed",
   "metadata": {},
   "outputs": [
    {
     "name": "stdout",
     "output_type": "stream",
     "text": [
      "tokens 92 --- 108\n",
      "tokens_ind 108\n"
     ]
    },
    {
     "data": {
      "image/png": "[encoded data removed]",
      "text/plain": [
       "<Figure size 1440x360 with 2 Axes>"
      ]
     },
     "metadata": {
      "needs_background": "light"
     },
     "output_type": "display_data"
    }
   ],
   "source": [
    "plot_possible_answer(answer_map,10,11)"
   ]
  },
  {
   "cell_type": "code",
   "execution_count": null,
   "id": "fd79e3ab",
   "metadata": {},
   "outputs": [],
   "source": []
  }
 ],
 "metadata": {
  "kernelspec": {
   "display_name": "Python 3 (ipykernel)",
   "language": "python",
   "name": "python3"
  },
  "language_info": {
   "codemirror_mode": {
    "name": "ipython",
    "version": 3
   },
   "file_extension": ".py",
   "mimetype": "text/x-python",
   "name": "python",
   "nbconvert_exporter": "python",
   "pygments_lexer": "ipython3",
   "version": "3.9.9"
  }
 },
 "nbformat": 4,
 "nbformat_minor": 5
}
