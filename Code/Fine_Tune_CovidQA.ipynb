{
  "cells": [
    {
      "cell_type": "code",
      "execution_count": 1,
      "metadata": {
        "id": "5r_KUz3GXoT5"
      },
      "outputs": [],
      "source": [
        "!pip install --quiet transformers"
      ]
    },
    {
      "cell_type": "code",
      "execution_count": 2,
      "metadata": {
        "id": "MSAMv8uaXoT8"
      },
      "outputs": [],
      "source": [
        "# !python --version"
      ]
    },
    {
      "cell_type": "code",
      "execution_count": 3,
      "metadata": {
        "id": "TEwtJ_z1XoT8"
      },
      "outputs": [],
      "source": [
        "# !python -c \"from transformers import pipeline; print(pipeline('sentiment-analysis')('we love you'))\""
      ]
    },
    {
      "cell_type": "code",
      "execution_count": 4,
      "metadata": {
        "id": "zMaRANRNXoT9"
      },
      "outputs": [],
      "source": [
        "# !which python3"
      ]
    },
    {
      "cell_type": "code",
      "execution_count": 5,
      "metadata": {
        "id": "VcExecXcXoT9"
      },
      "outputs": [],
      "source": [
        "# !which jupyter"
      ]
    },
    {
      "cell_type": "code",
      "execution_count": 6,
      "metadata": {
        "id": "kw0Bg-RVXoT-"
      },
      "outputs": [],
      "source": [
        "import numpy"
      ]
    },
    {
      "cell_type": "code",
      "execution_count": 7,
      "metadata": {
        "id": "3qGBH8K3XoT-"
      },
      "outputs": [],
      "source": [
        "import pickle # reading in our data\n",
        "\n",
        "import torch # pytorch\n",
        "from torch.utils.data import DataLoader # this helps us iterate over our data efficiently\n",
        "from tqdm import tqdm"
      ]
    },
    {
      "cell_type": "code",
      "execution_count": 8,
      "metadata": {
        "id": "zEXZ4fpVXoT-"
      },
      "outputs": [],
      "source": [
        "import transformers"
      ]
    },
    {
      "cell_type": "code",
      "source": [
        "from google.colab import drive\n",
        "drive.mount('/content/drive')"
      ],
      "metadata": {
        "colab": {
          "base_uri": "https://localhost:8080/"
        },
        "id": "bu52iSAgYRs6",
        "outputId": "9497d13e-be57-4865-9200-2ad37e28100a"
      },
      "execution_count": 9,
      "outputs": [
        {
          "output_type": "stream",
          "name": "stdout",
          "text": [
            "Drive already mounted at /content/drive; to attempt to forcibly remount, call drive.mount(\"/content/drive\", force_remount=True).\n"
          ]
        }
      ]
    },
    {
      "cell_type": "code",
      "source": [
        "cd /content/drive/MyDrive/datasets\n"
      ],
      "metadata": {
        "colab": {
          "base_uri": "https://localhost:8080/"
        },
        "id": "Ix-xYU_ZYSUo",
        "outputId": "3763a190-e693-4ff8-e893-d49acb85aa1f"
      },
      "execution_count": 10,
      "outputs": [
        {
          "output_type": "stream",
          "name": "stdout",
          "text": [
            "/content/drive/MyDrive/datasets\n"
          ]
        }
      ]
    },
    {
      "cell_type": "markdown",
      "metadata": {
        "id": "oei0oOEyXoT_"
      },
      "source": [
        "## Load Data"
      ]
    },
    {
      "cell_type": "markdown",
      "metadata": {
        "id": "Swa9Uc1CXoUA"
      },
      "source": [
        "### Load training data"
      ]
    },
    {
      "cell_type": "code",
      "execution_count": 11,
      "metadata": {
        "id": "wBHlCPrHXoUA"
      },
      "outputs": [],
      "source": [
        "with open('/content/drive/MyDrive/datasets/covidqa/covid_train_contexts.pkl', 'rb') as f1:\n",
        "  train_contexts = pickle.load(f1)"
      ]
    },
    {
      "cell_type": "code",
      "execution_count": 12,
      "metadata": {
        "id": "yxwFJftYXoUA"
      },
      "outputs": [],
      "source": [
        "with open('/content/drive/MyDrive/datasets/covidqa/covid_train_questions.pkl', 'rb') as f2:\n",
        "  train_questions = pickle.load(f2)"
      ]
    },
    {
      "cell_type": "code",
      "execution_count": 13,
      "metadata": {
        "id": "G55RGJfLXoUB"
      },
      "outputs": [],
      "source": [
        "with open('/content/drive/MyDrive/datasets/covidqa/covid_train_answers.pkl', 'rb') as f3:\n",
        "  train_answers = pickle.load(f3)"
      ]
    },
    {
      "cell_type": "markdown",
      "metadata": {
        "id": "U5gDC6yDXoUB"
      },
      "source": [
        "### Load validation data"
      ]
    },
    {
      "cell_type": "code",
      "execution_count": 14,
      "metadata": {
        "id": "-t1Ok6ubXoUB"
      },
      "outputs": [],
      "source": [
        "with open('/content/drive/MyDrive/datasets/covidqa/covid_val_contexts.pkl', 'rb') as f1:\n",
        "  val_contexts = pickle.load(f1)"
      ]
    },
    {
      "cell_type": "code",
      "execution_count": 15,
      "metadata": {
        "id": "Jq9cnofyXoUB"
      },
      "outputs": [],
      "source": [
        "with open('/content/drive/MyDrive/datasets/covidqa/covid_val_questions.pkl', 'rb') as f2:\n",
        "  val_questions = pickle.load(f2)"
      ]
    },
    {
      "cell_type": "code",
      "execution_count": 16,
      "metadata": {
        "id": "dfcPfN76XoUB"
      },
      "outputs": [],
      "source": [
        "with open('/content/drive/MyDrive/datasets/covidqa/covid_val_answers.pkl', 'rb') as f3:\n",
        "  val_answers = pickle.load(f3)"
      ]
    },
    {
      "cell_type": "code",
      "execution_count": 17,
      "metadata": {
        "id": "Ymorws5eXoUC"
      },
      "outputs": [],
      "source": [
        "def add_end_index(answers, contexts):\n",
        "\n",
        "  # loop over each context-answer pair\n",
        "  for answer, context in zip(answers, contexts):\n",
        "\n",
        "    # the actual answer\n",
        "    expected_answer = answer['text']\n",
        "\n",
        "    # start index of the answer\n",
        "    start_index = answer['answer_start']\n",
        "\n",
        "    # end index\n",
        "    end_index = start_index + len(expected_answer)\n",
        "\n",
        "    # take into account if answer is off by a couple characters\n",
        "    if context[start_index:end_index] == expected_answer:\n",
        "      answer['answer_end'] = end_index\n",
        "    else:\n",
        "      # if answer is off by 1 or 2 tokens\n",
        "      for i in [1, 2]:\n",
        "        if context[start_index-i:end_index-i] == expected_answer:\n",
        "          answer['answer_start'] = start_index - i\n",
        "          answer['answer_end'] = end_index - i"
      ]
    },
    {
      "cell_type": "code",
      "execution_count": 18,
      "metadata": {
        "id": "GwhqZyEgXoUC"
      },
      "outputs": [],
      "source": [
        "# apply our function above to dig up all the answer_start and end for each context-answer pair\n",
        "add_end_index(train_answers, train_contexts)\n",
        "add_end_index(val_answers, val_contexts)"
      ]
    },
    {
      "cell_type": "code",
      "execution_count": 19,
      "metadata": {
        "colab": {
          "base_uri": "https://localhost:8080/"
        },
        "id": "-GSGheNTXoUC",
        "outputId": "35436e2f-e421-4235-b825-6586bb0e6002"
      },
      "outputs": [
        {
          "output_type": "execute_result",
          "data": {
            "text/plain": [
              "[{'answer_end': 466,\n",
              "  'answer_start': 370,\n",
              "  'text': 'Mother-to-child transmission (MTCT) is the main cause of HIV-1 infection in children worldwide. '},\n",
              " {'answer_end': 2129,\n",
              "  'answer_start': 2003,\n",
              "  'text': 'DC-SIGNR plays a crucial role in MTCT of HIV-1 and that impaired placental DC-SIGNR expression increases risk of transmission.'},\n",
              " {'answer_end': 2408,\n",
              "  'answer_start': 2291,\n",
              "  'text': 'more than 400,000 children were infected worldwide, mostly through MTCT and 90% of them lived in sub-Saharan Africa. '}]"
            ]
          },
          "metadata": {},
          "execution_count": 19
        }
      ],
      "source": [
        "train_answers[:3]"
      ]
    },
    {
      "cell_type": "code",
      "execution_count": 20,
      "metadata": {
        "id": "10ZrZiGZXoUC"
      },
      "outputs": [],
      "source": [
        "# from transformers import DistilBertTokenizerFast\n",
        "from transformers import RobertaTokenizerFast\n",
        "# defining the tokenizer we are going to use\n",
        "# tokenizer = DistilBertTokenizerFast.from_pretrained('distilbert-base-uncased')\n",
        "tokenizer = RobertaTokenizerFast.from_pretrained('roberta-base')"
      ]
    },
    {
      "cell_type": "code",
      "execution_count": 21,
      "metadata": {
        "id": "jP4gEDe1XoUD"
      },
      "outputs": [],
      "source": [
        "# apply tokenizer to our training and validation datasets\n",
        "train_tokenized = tokenizer(train_contexts, train_questions, truncation=True, padding=True)\n",
        "val_tokenized = tokenizer(val_contexts, val_questions, truncation=True, padding=True)"
      ]
    },
    {
      "cell_type": "code",
      "source": [
        "print(train_tokenized[0])\n",
        "print(val_tokenized[0])"
      ],
      "metadata": {
        "colab": {
          "base_uri": "https://localhost:8080/"
        },
        "id": "gl5ZncXvmwG_",
        "outputId": "88a29c14-1b5c-4b6e-c807-91cf848f7bac"
      },
      "execution_count": 43,
      "outputs": [
        {
          "output_type": "stream",
          "name": "stdout",
          "text": [
            "Encoding(num_tokens=512, attributes=[ids, type_ids, tokens, offsets, attention_mask, special_tokens_mask, overflowing])\n",
            "Encoding(num_tokens=512, attributes=[ids, type_ids, tokens, offsets, attention_mask, special_tokens_mask, overflowing])\n"
          ]
        }
      ]
    },
    {
      "cell_type": "code",
      "execution_count": 22,
      "metadata": {
        "colab": {
          "base_uri": "https://localhost:8080/",
          "height": 140
        },
        "id": "sOPsFbd3XoUD",
        "outputId": "b9482842-1ffe-498c-ce30-a684db9c110b"
      },
      "outputs": [
        {
          "output_type": "execute_result",
          "data": {
            "text/plain": [
              "'<s>Functional Genetic Variants in DC-SIGNR Are Associated with Mother-to-Child Transmission of HIV-1\\n\\nhttps://www.ncbi.nlm.nih.gov/pmc/articles/PMC2752805/\\n\\nBoily-Larouche, Geneviève; Iscache, Anne-Laure; Zijenah, Lynn S.; Humphrey, Jean H.; Mouland, Andrew J.; Ward, Brian J.; Roger, Michel\\n2009-10-07\\nDOI:10.1371/journal.pone.0007211\\nLicense:cc-by\\n\\nAbstract: BACKGROUND: Mother-to-child transmission (MTCT) is the main cause of HIV-1 infection in children worldwide. Given that the C-type lectin receptor, dendritic cell-specific ICAM-grabbing non-integrin-related (DC-SIGNR, also known as CD209L or liver/lymph node–specific ICAM-grabbing non-integrin (L-SIGN)), can interact with pathogens including HIV-1 and is expressed at the maternal-fetal interface, we hypothesized that it could influence MTCT of HIV-1. METHODS AND FINDINGS: To investigate the potential role of DC-SIGNR in MTCT of HIV-1, we carried out a genetic association study of DC-SIGNR in a well-characterized cohort of 197 HIV-infected mothers and their infants recruited in Harare, Zimbabwe. Infants harbouring two copies of DC-SIGNR H1 and/or H3 haplotypes (H1-H1, H1-H3, H3-H3) had a 3.6-fold increased risk of in utero (IU) (P = 0.013) HIV-1 infection and a 5.7-fold increased risk of intrapartum (IP) (P = 0.025) HIV-1 infection after adjusting for a number of maternal factors. The implicated H1 and H3 haplotypes share two single nucleotide polymorphisms (SNPs) in promoter region (p-198A) and intron 2 (int2-180A) that were associated with increased risk of both IU (P = 0.045 and P = 0.003, respectively) and IP (P = 0.025, for int2-</s></s>What is the main cause of HIV-1 infection in children?</s>'"
            ],
            "application/vnd.google.colaboratory.intrinsic+json": {
              "type": "string"
            }
          },
          "metadata": {},
          "execution_count": 22
        }
      ],
      "source": [
        "tokenizer.decode(train_tokenized['input_ids'][0])"
      ]
    },
    {
      "cell_type": "code",
      "execution_count": 23,
      "metadata": {
        "id": "jlnCkOJXXoUD"
      },
      "outputs": [],
      "source": [
        "def add_token_positions(tokenized_data, answers):\n",
        "  # let's define a couple lists to keep track of our start/end tokens\n",
        "  start_positions = [] # aggregate all start positions for each sample\n",
        "  end_positions = [] # aggregate all end positions for each sample\n",
        "\n",
        "  # loop over the answers list\n",
        "  for i in range(len(answers)):\n",
        "    # add the start and end encodings to our lists\n",
        "    start_positions.append(tokenized_data.char_to_token(i, answers[i]['answer_start']))\n",
        "    end_positions.append(tokenized_data.char_to_token(i, answers[i]['answer_end']))\n",
        "\n",
        "    # if no start position, the answer passage was truncated\n",
        "    if start_positions[-1] is None:\n",
        "      start_positions[-1] = tokenizer.model_max_length\n",
        "    \n",
        "    # if we can't find the end positions, then we want to shift characters left until we do find it\n",
        "    shift = 1\n",
        "    while end_positions[-1] is None:\n",
        "      end_positions[-1] = tokenized_data.char_to_token(i, answers[i]['answer_end'] - shift)\n",
        "      shift += 1\n",
        "  \n",
        "  tokenized_data.update({'start_positions': start_positions, 'end_positions': end_positions})"
      ]
    },
    {
      "cell_type": "code",
      "execution_count": 24,
      "metadata": {
        "id": "7fLayikxXoUD"
      },
      "outputs": [],
      "source": [
        "# apply function to train and validations data\n",
        "add_token_positions(train_tokenized, train_answers)\n",
        "add_token_positions(val_tokenized, val_answers)"
      ]
    },
    {
      "cell_type": "code",
      "execution_count": 25,
      "metadata": {
        "colab": {
          "base_uri": "https://localhost:8080/"
        },
        "id": "uY1RNvSJXoUE",
        "outputId": "9f79eb02-93b0-4e60-8dc3-2f79e23fec6e"
      },
      "outputs": [
        {
          "output_type": "execute_result",
          "data": {
            "text/plain": [
              "dict_keys(['input_ids', 'attention_mask', 'start_positions', 'end_positions'])"
            ]
          },
          "metadata": {},
          "execution_count": 25
        }
      ],
      "source": [
        "train_tokenized.keys()"
      ]
    },
    {
      "cell_type": "code",
      "execution_count": 26,
      "metadata": {
        "id": "CPY0xlUcXoUE"
      },
      "outputs": [],
      "source": [
        "class CovidDataset(torch.utils.data.Dataset):\n",
        "  # constructor\n",
        "  def __init__(self, encodings):\n",
        "    self.encodings = encodings\n",
        "  \n",
        "  # Query to get a specific item at an index in our dataset\n",
        "  def __getitem__(self, idx):\n",
        "    return {key: torch.tensor(val[idx]) for key, val in self.encodings.items()} # comprehension (shortcut)\n",
        "\n",
        "  # returns the length of our dataset\n",
        "  def __len__(self):\n",
        "    return len(self.encodings.input_ids)"
      ]
    },
    {
      "cell_type": "code",
      "execution_count": 27,
      "metadata": {
        "id": "mWvRYugpXoUE"
      },
      "outputs": [],
      "source": [
        "# Datasets for the training and validations sets\n",
        "train_data = CovidDataset(train_tokenized)\n",
        "val_data = CovidDataset(val_tokenized)"
      ]
    },
    {
      "cell_type": "code",
      "execution_count": 28,
      "metadata": {
        "id": "w4p-tm-sXoUE"
      },
      "outputs": [],
      "source": [
        "# Used to help us iterate over our dataset conveniently, especially when we have batches\n",
        "train_dataloader = DataLoader(train_data, batch_size=8, shuffle=True)\n",
        "val_dataloader = DataLoader(val_data, batch_size=8, shuffle=True)"
      ]
    },
    {
      "cell_type": "code",
      "execution_count": 29,
      "metadata": {
        "colab": {
          "base_uri": "https://localhost:8080/"
        },
        "id": "A5PNR9ZgXoUE",
        "outputId": "62b84ecc-bffb-46f2-f4d7-70bf969f2dd8"
      },
      "outputs": [
        {
          "output_type": "stream",
          "name": "stderr",
          "text": [
            "Some weights of the model checkpoint at roberta-base were not used when initializing RobertaForQuestionAnswering: ['lm_head.dense.bias', 'lm_head.layer_norm.weight', 'lm_head.bias', 'lm_head.layer_norm.bias', 'lm_head.dense.weight', 'lm_head.decoder.weight']\n",
            "- This IS expected if you are initializing RobertaForQuestionAnswering from the checkpoint of a model trained on another task or with another architecture (e.g. initializing a BertForSequenceClassification model from a BertForPreTraining model).\n",
            "- This IS NOT expected if you are initializing RobertaForQuestionAnswering from the checkpoint of a model that you expect to be exactly identical (initializing a BertForSequenceClassification model from a BertForSequenceClassification model).\n",
            "Some weights of RobertaForQuestionAnswering were not initialized from the model checkpoint at roberta-base and are newly initialized: ['qa_outputs.bias', 'qa_outputs.weight']\n",
            "You should probably TRAIN this model on a down-stream task to be able to use it for predictions and inference.\n"
          ]
        }
      ],
      "source": [
        "from transformers import RobertaForQuestionAnswering # This is the BERT model used for question answering\n",
        "\n",
        "# BERT model already finetuned for question answering\n",
        "model = RobertaForQuestionAnswering.from_pretrained('roberta-base')"
      ]
    },
    {
      "cell_type": "code",
      "execution_count": 30,
      "metadata": {
        "colab": {
          "base_uri": "https://localhost:8080/"
        },
        "id": "y0AkcdFfXoUF",
        "outputId": "63c22674-d387-4b59-b8a4-c94a38cf66c7"
      },
      "outputs": [
        {
          "output_type": "stream",
          "name": "stderr",
          "text": [
            "/usr/local/lib/python3.7/dist-packages/transformers/optimization.py:309: FutureWarning: This implementation of AdamW is deprecated and will be removed in a future version. Use the PyTorch implementation torch.optim.AdamW instead, or set `no_deprecation_warning=True` to disable this warning\n",
            "  FutureWarning,\n"
          ]
        }
      ],
      "source": [
        "from transformers import AdamW\n",
        "\n",
        "optim = AdamW(model.parameters(), lr=5e-5)"
      ]
    },
    {
      "cell_type": "code",
      "execution_count": 31,
      "metadata": {
        "colab": {
          "base_uri": "https://localhost:8080/"
        },
        "id": "N1RRJryxXoUF",
        "outputId": "ae9594fa-f8cd-4429-cfe7-f2ea9afbea9b"
      },
      "outputs": [
        {
          "output_type": "stream",
          "name": "stdout",
          "text": [
            "There are 1 GPUs available\n",
            "Device name: Tesla T4\n"
          ]
        }
      ],
      "source": [
        "if torch.cuda.is_available():\n",
        "  device = torch.device(\"cuda\") # this is the device our model will use for computing\n",
        "  print(f'There are {torch.cuda.device_count()} GPUs available')\n",
        "  print(f'Device name:', torch.cuda.get_device_name(0))\n",
        "else:\n",
        "  print('No GPU available, using CPU instead')\n",
        "  device = torch.device('cpu')"
      ]
    },
    {
      "cell_type": "code",
      "execution_count": 32,
      "metadata": {
        "id": "CN4ZJ25NXoUF"
      },
      "outputs": [],
      "source": [
        "model = model.to(device)"
      ]
    },
    {
      "cell_type": "code",
      "execution_count": 33,
      "metadata": {
        "id": "G5vJgGqpXoUF"
      },
      "outputs": [],
      "source": [
        "def train(model, train_dataloader):\n",
        "\n",
        "  # run loop 3 times\n",
        "  for epoch in range(1):\n",
        "    # first, set the mode of the model to train\n",
        "    model.train()\n",
        "\n",
        "    # progress bar\n",
        "    loop = tqdm(train_dataloader, leave=True)\n",
        "\n",
        "    # loop over each batch \n",
        "    for batch in loop:\n",
        "      # zero out the optimizer\n",
        "      optim.zero_grad()\n",
        "\n",
        "      # grab the batch attributes and attach them to the GPU device\n",
        "      input_ids, attention_mask, start_positions, end_positions = batch['input_ids'].to(device), batch['attention_mask'].to(device), batch['start_positions'].to(device), batch['end_positions'].to(device)\n",
        "\n",
        "      # Feedforward!!!\n",
        "      outputs = model(input_ids, attention_mask, start_positions=start_positions, end_positions=end_positions)\n",
        "\n",
        "      # Compute the Loss\n",
        "      loss = outputs[0]\n",
        "\n",
        "      # BACKPROPAGATION!!!!\n",
        "      loss.backward()\n",
        "\n",
        "      # update parameters for the next run\n",
        "      optim.step()\n",
        "\n",
        "\n",
        "      # display some stuff here\n",
        "      loop.set_description(f'Epoch {epoch}')\n",
        "      loop.set_postfix(loss=loss.item())\n"
      ]
    },
    {
      "cell_type": "code",
      "execution_count": 34,
      "metadata": {
        "colab": {
          "base_uri": "https://localhost:8080/"
        },
        "id": "PYJn2m7QXoUF",
        "outputId": "7ff12a15-3350-464b-f3f1-700f8d404637"
      },
      "outputs": [
        {
          "output_type": "stream",
          "name": "stderr",
          "text": [
            "Epoch 0: 100%|██████████| 202/202 [02:39<00:00,  1.27it/s, loss=3.91]\n"
          ]
        }
      ],
      "source": [
        "train(model, train_dataloader)"
      ]
    },
    {
      "cell_type": "code",
      "execution_count": 35,
      "metadata": {
        "id": "Y6co-IxgXoUF"
      },
      "outputs": [],
      "source": [
        "def evaluate(model, val_dataloader):\n",
        "    # set to evaluate mode\n",
        "    model.eval()\n",
        "    \n",
        "    # keep track of accuracies\n",
        "    accuracies = []\n",
        "    \n",
        "    # loop through batches\n",
        "    for batch in val_dataloader:\n",
        "        # grab the batch attributes and attach them to the GPU device\n",
        "        input_ids, attention_mask, start_positions, end_positions = batch['input_ids'].to(device), batch['attention_mask'].to(device), batch['start_positions'].to(device), batch['end_positions'].to(device)\n",
        "        \n",
        "        # make prediction\n",
        "        outputs = model(input_ids, attention_mask=attention_mask)\n",
        "        \n",
        "        # get the prediction for the start and end token for answer\n",
        "        start_probs = outputs['start_logits']\n",
        "        end_probs = outputs['end_logits']\n",
        "        \n",
        "        start_pred = torch.argmax(start_probs, dim=1)\n",
        "        end_pred = torch.argmax(end_probs, dim=1)\n",
        "        \n",
        "        # append the accuracy\n",
        "        accuracies.append(((start_pred == start_positions).sum() / len(start_pred)).item())\n",
        "        accuracies.append(((end_pred == end_positions).sum() / len(end_pred)).item())\n",
        "    \n",
        "    avg_acc = sum(accuracies) / len(accuracies)\n",
        "    \n",
        "    return avg_acc\n",
        "    "
      ]
    },
    {
      "cell_type": "code",
      "execution_count": 36,
      "metadata": {
        "id": "OtBZEzzIXoUG"
      },
      "outputs": [],
      "source": [
        "avg_acc = evaluate(model, val_dataloader)"
      ]
    },
    {
      "cell_type": "code",
      "execution_count": 37,
      "metadata": {
        "colab": {
          "base_uri": "https://localhost:8080/"
        },
        "id": "PHd4oq8EXoUG",
        "outputId": "6d17dfd3-d793-4496-f288-db4b3954df14"
      },
      "outputs": [
        {
          "output_type": "execute_result",
          "data": {
            "text/plain": [
              "0.44362745098039214"
            ]
          },
          "metadata": {},
          "execution_count": 37
        }
      ],
      "source": [
        "avg_acc"
      ]
    },
    {
      "cell_type": "code",
      "execution_count": 37,
      "metadata": {
        "id": "JjgZkd_ZXoUG"
      },
      "outputs": [],
      "source": [
        ""
      ]
    }
  ],
  "metadata": {
    "kernelspec": {
      "display_name": "Python 3",
      "language": "python",
      "name": "python3"
    },
    "language_info": {
      "codemirror_mode": {
        "name": "ipython",
        "version": 3
      },
      "file_extension": ".py",
      "mimetype": "text/x-python",
      "name": "python",
      "nbconvert_exporter": "python",
      "pygments_lexer": "ipython3",
      "version": "3.8.10"
    },
    "colab": {
      "name": "Fine_Tune_CovidQA.ipynb",
      "provenance": []
    },
    "accelerator": "GPU"
  },
  "nbformat": 4,
  "nbformat_minor": 0
}